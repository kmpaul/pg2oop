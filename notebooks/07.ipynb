{
 "cells": [
  {
   "cell_type": "markdown",
   "id": "2dd23757-7cba-44b2-844a-5eff30aa513c",
   "metadata": {},
   "source": [
    "# *When* should you create an object?"
   ]
  },
  {
   "cell_type": "markdown",
   "id": "5db52500-4fd7-48f0-86ed-ee6578dbe2ac",
   "metadata": {},
   "source": [
    "# You might want to use classes when...\n",
    "## ...You have multiple data structures to describe the same data set.\n",
    "\n",
    "Imagine that you have a number of different parameters describing the same data.  For example, consider a collection of [ocean floats](https://en.wikipedia.org/wiki/Float_(oceanographic_instrument_platform)), and for each float you might want to store its:\n",
    "\n",
    "- *latitude*,\n",
    "- *longitude*, and \n",
    "- *depth*.\n",
    "\n",
    "You might also want to store how each of these parameter changes with *time*, and you may even want to save any number of other parameters, too!\n",
    "\n",
    "One solution to this problem is to have a `list` (or even `numpy` arrays) of values for each parameter you want to monitor in time."
   ]
  },
  {
   "cell_type": "markdown",
   "id": "2fb8c289-ffb9-4c5b-8949-956c1db32f8a",
   "metadata": {},
   "source": [
    "### Example: Many lists"
   ]
  },
  {
   "cell_type": "code",
   "execution_count": 5,
   "id": "1bf8e40d-0064-4999-8fd9-ef4c1edd37e3",
   "metadata": {},
   "outputs": [],
   "source": [
    "# Set the coordinates of 2 floats\n",
    "float_times = [\n",
    "    [1.2, 2.4, 3.8],\n",
    "    [1.8, 3.6, 4.1],\n",
    "]\n",
    "float_latitudes = [\n",
    "    [47.3, 42.3, 35.5],\n",
    "    [12.2, 11.6, 12.1],\n",
    "]\n",
    "float_longitudes = [\n",
    "    [-136.1, -133.8, -130.8],\n",
    "    [-144.7, -171.9, 164.5],\n",
    "]\n",
    "float_depths = [\n",
    "    [1001., 998.2, 999.7],\n",
    "    [983.7, 991.6, 989.2],\n",
    "]"
   ]
  },
  {
   "cell_type": "code",
   "execution_count": null,
   "id": "a5f0865b-2e2f-4bbc-8e88-dd80373a2006",
   "metadata": {},
   "outputs": [],
   "source": [
    "def get_latlon("
   ]
  },
  {
   "cell_type": "code",
   "execution_count": 15,
   "id": "f1990326-2bd4-4533-8b4d-fd24b9503f65",
   "metadata": {},
   "outputs": [],
   "source": [
    "# Get the (lat,lon) of a given float at a given time\n",
    "n_float = 1\n",
    "n_time = 1"
   ]
  },
  {
   "cell_type": "code",
   "execution_count": null,
   "id": "17a86e7b-a0bd-4f7c-b653-7a2243ebdd73",
   "metadata": {},
   "outputs": [],
   "source": [
    "(float_latitudes[n_float][n_time], float_longitudes[n_float][n_time])"
   ]
  },
  {
   "cell_type": "markdown",
   "id": "ea13ef45-9a99-4951-ab3a-66df8426eafb",
   "metadata": {},
   "source": [
    "### Example: List of Floats"
   ]
  },
  {
   "cell_type": "code",
   "execution_count": 10,
   "id": "d177504b-6c78-4480-bc6d-72ebfd9a4053",
   "metadata": {},
   "outputs": [],
   "source": [
    "class FloatData:\n",
    "    \n",
    "    def __init__(self, times=[], latitudes=[], longitudes=[], depths=[]):\n",
    "        self.time = times\n",
    "        self.latitudes = latitudes\n",
    "        self.longitudes = longitudes\n",
    "        self.depths = depths\n",
    "    \n",
    "    def get_latlon(self, time=-1):\n",
    "        return (self.latitudes[time], self.longitudes[time])"
   ]
  },
  {
   "cell_type": "code",
   "execution_count": 11,
   "id": "5fbfb1ea-c663-4ec2-be15-32f0b8c8b5e0",
   "metadata": {},
   "outputs": [],
   "source": [
    "floats = []\n",
    "for i in range(2):\n",
    "    floats.append(FloatData(times=float_times[i],\n",
    "                            latitudes=float_latitudes[i],\n",
    "                            longitudes=float_longitudes[i],\n",
    "                            depths=float_depths[i]))"
   ]
  },
  {
   "cell_type": "code",
   "execution_count": 14,
   "id": "5c31e466-76c2-4eba-a6b8-f99fbb9e6c8f",
   "metadata": {},
   "outputs": [
    {
     "data": {
      "text/plain": [
       "(11.6, -171.9)"
      ]
     },
     "execution_count": 14,
     "metadata": {},
     "output_type": "execute_result"
    }
   ],
   "source": [
    "n_float = 1\n",
    "n_time = 1\n",
    "floats[n_float].get_latlon(n_time)"
   ]
  },
  {
   "cell_type": "markdown",
   "id": "f5c04a50-4b6f-41b9-ba0b-b3acd818ca85",
   "metadata": {},
   "source": [
    "<div style=\"float: left;\"><a href=\"../index.ipynb\">[Home]</a></div>\n",
    "<div style=\"float: right;\"><a href=\"06.ipynb\">&laquo;&nbsp;Previous</a>&nbsp;|&nbsp;<a href=\"08.ipynb\">Next&nbsp;&raquo;</a></div>"
   ]
  }
 ],
 "metadata": {
  "kernelspec": {
   "display_name": "Python 3 (ipykernel)",
   "language": "python",
   "name": "python3"
  },
  "language_info": {
   "codemirror_mode": {
    "name": "ipython",
    "version": 3
   },
   "file_extension": ".py",
   "mimetype": "text/x-python",
   "name": "python",
   "nbconvert_exporter": "python",
   "pygments_lexer": "ipython3",
   "version": "3.7.10"
  }
 },
 "nbformat": 4,
 "nbformat_minor": 5
}
