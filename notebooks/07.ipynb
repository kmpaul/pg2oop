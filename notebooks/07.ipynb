{
 "cells": [
  {
   "cell_type": "markdown",
   "id": "2dd23757-7cba-44b2-844a-5eff30aa513c",
   "metadata": {},
   "source": [
    "# *When* should you create an object?"
   ]
  },
  {
   "cell_type": "markdown",
   "id": "23edffdb-a40e-4ef3-abf7-3c5a0bf2953b",
   "metadata": {},
   "source": [
    "## Complicated Data Structures\n",
    "\n",
    "One good example of a use for classes and objects is when you have complicated data structures.  For example, imagine that you have a large number of *instruments* that record a large number of different kinds of data with a regular temporal frequency.  Because the data is numerous and varied, there are usually many ways of *representing* the data.\n",
    "\n",
    "For example, if we knew that every instrument was the same, and that it recorded the same kinds of data (variables) as every other instrument"
   ]
  },
  {
   "cell_type": "markdown",
   "id": "f5c04a50-4b6f-41b9-ba0b-b3acd818ca85",
   "metadata": {},
   "source": [
    "<div style=\"float: left;\"><a href=\"../index.ipynb\">[Home]</a></div>\n",
    "<div style=\"float: right;\"><a href=\"06.ipynb\">&laquo;&nbsp;Previous</a>&nbsp;|&nbsp;<a href=\"08.ipynb\">Next&nbsp;&raquo;</a></div>"
   ]
  }
 ],
 "metadata": {
  "kernelspec": {
   "display_name": "Python 3 (ipykernel)",
   "language": "python",
   "name": "python3"
  },
  "language_info": {
   "codemirror_mode": {
    "name": "ipython",
    "version": 3
   },
   "file_extension": ".py",
   "mimetype": "text/x-python",
   "name": "python",
   "nbconvert_exporter": "python",
   "pygments_lexer": "ipython3",
   "version": "3.7.10"
  }
 },
 "nbformat": 4,
 "nbformat_minor": 5
}
