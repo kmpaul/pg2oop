{
 "cells": [
  {
   "cell_type": "markdown",
   "id": "c26dbc20-cefc-4a9c-978b-2674c36d1503",
   "metadata": {},
   "source": [
    "# Thank you!  Questions?"
   ]
  },
  {
   "cell_type": "code",
   "execution_count": null,
   "id": "fac02772-fcc6-42c2-b4d3-83908d0001c5",
   "metadata": {},
   "outputs": [],
   "source": []
  },
  {
   "cell_type": "markdown",
   "id": "9db47309-2d40-482f-8422-77d7fe7251c1",
   "metadata": {},
   "source": [
    "|    |    |    |\n",
    "| :- | -- | -: |\n",
    "| [[Home]](../index.ipynb) | <img width=\"100%\" height=\"1\" src=\"../images/empty.png\"/> | [&laquo;&nbsp;Previous](11.ipynb) |"
   ]
  }
 ],
 "metadata": {
  "kernelspec": {
   "display_name": "Python 3 (ipykernel)",
   "language": "python",
   "name": "python3"
  },
  "language_info": {
   "codemirror_mode": {
    "name": "ipython",
    "version": 3
   },
   "file_extension": ".py",
   "mimetype": "text/x-python",
   "name": "python",
   "nbconvert_exporter": "python",
   "pygments_lexer": "ipython3",
   "version": "3.9.7"
  }
 },
 "nbformat": 4,
 "nbformat_minor": 5
}
