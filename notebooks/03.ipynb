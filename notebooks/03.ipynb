{
 "cells": [
  {
   "cell_type": "markdown",
   "id": "ab06f6f2-ba94-49f5-84d8-f67f65f3d567",
   "metadata": {
    "slideshow": {
     "slide_type": "subslide"
    },
    "tags": []
   },
   "source": [
    "# Everything in Python is an object!\n",
    "\n",
    "Don't believe me?  Check out the `dir` built-in function in Python.\n",
    "\n",
    "<img src=\"../images/dir_doc.png\" style=\"padding: 0 1em;\">\n",
    "\n",
    "*Attributes* can be either *data* (i.e., variables) or *functions*.  Hence, the `dir` function can given the \"contents\" of a given object.  \n",
    "\n",
    "Try it out with some different data types..."
   ]
  },
  {
   "cell_type": "markdown",
   "id": "037b6557-8519-493d-ba11-8f653b902cda",
   "metadata": {
    "slideshow": {
     "slide_type": "subslide"
    },
    "tags": []
   },
   "source": [
    "#### Example: Strings have attributes"
   ]
  },
  {
   "cell_type": "code",
   "execution_count": 7,
   "id": "afa88f7d-bd5e-4242-93f6-acd2bfd9de17",
   "metadata": {
    "slideshow": {
     "slide_type": "fragment"
    },
    "tags": []
   },
   "outputs": [
    {
     "data": {
      "text/plain": [
       "['__add__',\n",
       " '__class__',\n",
       " '__contains__',\n",
       " '__delattr__',\n",
       " '__dir__',\n",
       " '__doc__',\n",
       " '__eq__',\n",
       " '__format__',\n",
       " '__ge__',\n",
       " '__getattribute__',\n",
       " '__getitem__',\n",
       " '__getnewargs__',\n",
       " '__gt__',\n",
       " '__hash__',\n",
       " '__init__',\n",
       " '__init_subclass__',\n",
       " '__iter__',\n",
       " '__le__',\n",
       " '__len__',\n",
       " '__lt__',\n",
       " '__mod__',\n",
       " '__mul__',\n",
       " '__ne__',\n",
       " '__new__',\n",
       " '__reduce__',\n",
       " '__reduce_ex__',\n",
       " '__repr__',\n",
       " '__rmod__',\n",
       " '__rmul__',\n",
       " '__setattr__',\n",
       " '__sizeof__',\n",
       " '__str__',\n",
       " '__subclasshook__',\n",
       " 'capitalize',\n",
       " 'casefold',\n",
       " 'center',\n",
       " 'count',\n",
       " 'encode',\n",
       " 'endswith',\n",
       " 'expandtabs',\n",
       " 'find',\n",
       " 'format',\n",
       " 'format_map',\n",
       " 'index',\n",
       " 'isalnum',\n",
       " 'isalpha',\n",
       " 'isascii',\n",
       " 'isdecimal',\n",
       " 'isdigit',\n",
       " 'isidentifier',\n",
       " 'islower',\n",
       " 'isnumeric',\n",
       " 'isprintable',\n",
       " 'isspace',\n",
       " 'istitle',\n",
       " 'isupper',\n",
       " 'join',\n",
       " 'ljust',\n",
       " 'lower',\n",
       " 'lstrip',\n",
       " 'maketrans',\n",
       " 'partition',\n",
       " 'replace',\n",
       " 'rfind',\n",
       " 'rindex',\n",
       " 'rjust',\n",
       " 'rpartition',\n",
       " 'rsplit',\n",
       " 'rstrip',\n",
       " 'split',\n",
       " 'splitlines',\n",
       " 'startswith',\n",
       " 'strip',\n",
       " 'swapcase',\n",
       " 'title',\n",
       " 'translate',\n",
       " 'upper',\n",
       " 'zfill']"
      ]
     },
     "execution_count": 7,
     "metadata": {},
     "output_type": "execute_result"
    }
   ],
   "source": [
    "dir('string')"
   ]
  },
  {
   "cell_type": "markdown",
   "id": "560c1817-77d6-4bf4-b19d-3f7e66dbf8eb",
   "metadata": {
    "slideshow": {
     "slide_type": "fragment"
    },
    "tags": []
   },
   "source": [
    "<div class=\"alert alert-info\">\n",
    "    <b>Note:</b>\n",
    "    <p>Some attributes have names that start with __ (double-underscore).  In Python, variables or functions that start with a double-underscore are treated as \"private.\"  In general, variables or functions that start with a double-underscore <em>and end with a double-underscore</em> typically have special meaning.  We'll get to that later.</p>\n",
    "</div>"
   ]
  },
  {
   "cell_type": "markdown",
   "id": "aa59784d-678d-42a0-9163-471ba3441438",
   "metadata": {
    "slideshow": {
     "slide_type": "subslide"
    },
    "tags": []
   },
   "source": [
    "#### Example: Numbers have attributes"
   ]
  },
  {
   "cell_type": "code",
   "execution_count": 8,
   "id": "44fc2b6f-b851-4440-8233-f173a0439e0f",
   "metadata": {
    "slideshow": {
     "slide_type": "fragment"
    },
    "tags": []
   },
   "outputs": [
    {
     "data": {
      "text/plain": [
       "['__abs__',\n",
       " '__add__',\n",
       " '__and__',\n",
       " '__bool__',\n",
       " '__ceil__',\n",
       " '__class__',\n",
       " '__delattr__',\n",
       " '__dir__',\n",
       " '__divmod__',\n",
       " '__doc__',\n",
       " '__eq__',\n",
       " '__float__',\n",
       " '__floor__',\n",
       " '__floordiv__',\n",
       " '__format__',\n",
       " '__ge__',\n",
       " '__getattribute__',\n",
       " '__getnewargs__',\n",
       " '__gt__',\n",
       " '__hash__',\n",
       " '__index__',\n",
       " '__init__',\n",
       " '__init_subclass__',\n",
       " '__int__',\n",
       " '__invert__',\n",
       " '__le__',\n",
       " '__lshift__',\n",
       " '__lt__',\n",
       " '__mod__',\n",
       " '__mul__',\n",
       " '__ne__',\n",
       " '__neg__',\n",
       " '__new__',\n",
       " '__or__',\n",
       " '__pos__',\n",
       " '__pow__',\n",
       " '__radd__',\n",
       " '__rand__',\n",
       " '__rdivmod__',\n",
       " '__reduce__',\n",
       " '__reduce_ex__',\n",
       " '__repr__',\n",
       " '__rfloordiv__',\n",
       " '__rlshift__',\n",
       " '__rmod__',\n",
       " '__rmul__',\n",
       " '__ror__',\n",
       " '__round__',\n",
       " '__rpow__',\n",
       " '__rrshift__',\n",
       " '__rshift__',\n",
       " '__rsub__',\n",
       " '__rtruediv__',\n",
       " '__rxor__',\n",
       " '__setattr__',\n",
       " '__sizeof__',\n",
       " '__str__',\n",
       " '__sub__',\n",
       " '__subclasshook__',\n",
       " '__truediv__',\n",
       " '__trunc__',\n",
       " '__xor__',\n",
       " 'bit_length',\n",
       " 'conjugate',\n",
       " 'denominator',\n",
       " 'from_bytes',\n",
       " 'imag',\n",
       " 'numerator',\n",
       " 'real',\n",
       " 'to_bytes']"
      ]
     },
     "execution_count": 8,
     "metadata": {},
     "output_type": "execute_result"
    }
   ],
   "source": [
    "dir(1)"
   ]
  },
  {
   "cell_type": "markdown",
   "id": "630529a1-9d08-48d1-bf80-b1e865ee3a75",
   "metadata": {
    "slideshow": {
     "slide_type": "subslide"
    },
    "tags": []
   },
   "source": [
    "#### Exercise: Try it out with other data types..."
   ]
  },
  {
   "cell_type": "code",
   "execution_count": 9,
   "id": "9e4f7248-e29d-4e89-ada2-c11d724ead44",
   "metadata": {
    "slideshow": {
     "slide_type": "fragment"
    },
    "tags": []
   },
   "outputs": [],
   "source": [
    "# What attributes does a list have?"
   ]
  },
  {
   "cell_type": "code",
   "execution_count": 10,
   "id": "447185b6-f454-4d36-9553-83958921b94b",
   "metadata": {},
   "outputs": [],
   "source": [
    "# What attributes does a dict have?"
   ]
  },
  {
   "cell_type": "code",
   "execution_count": 11,
   "id": "e221812d-85d3-4567-9a97-b1b67bfb830b",
   "metadata": {},
   "outputs": [],
   "source": [
    "# What attributes does a function have?"
   ]
  },
  {
   "cell_type": "markdown",
   "id": "a46483b3-fc71-457e-88c6-20800710ccb2",
   "metadata": {
    "slideshow": {
     "slide_type": "subslide"
    },
    "tags": []
   },
   "source": [
    "## Tab Completion in Jupyter Notebooks!\n",
    "\n",
    "Jupyter Notebooks have the wonderful ability to *show* you an object's attributes just by adding a \"dot\" and then hitting tab.  Jupyter's built-in **tab completion** capability will then pop up a window to show you the attributes of the object!"
   ]
  },
  {
   "cell_type": "markdown",
   "id": "429809e6-5841-4c54-9b06-7be301aa2e5b",
   "metadata": {},
   "source": [
    "#### Example: Tab completion to show an integer's attributes"
   ]
  },
  {
   "cell_type": "code",
   "execution_count": 12,
   "id": "bc8c9e18-cec3-4a6a-863f-d18ffbf98e20",
   "metadata": {},
   "outputs": [],
   "source": [
    "i = 2"
   ]
  },
  {
   "cell_type": "code",
   "execution_count": null,
   "id": "8c6d10e5-ffbf-4f3c-ba9f-7673808a4e99",
   "metadata": {
    "slideshow": {
     "slide_type": "fragment"
    },
    "tags": []
   },
   "outputs": [],
   "source": [
    "i."
   ]
  },
  {
   "cell_type": "markdown",
   "id": "dbdc57f8-9565-4006-aa1d-ef9e2fcad0b3",
   "metadata": {
    "slideshow": {
     "slide_type": "fragment"
    },
    "tags": []
   },
   "source": [
    "<div class=\"alert alert-info\">\n",
    "    <b>Note:</b>\n",
    "    <p>Jupyter's visual display of an object's attributes labels each attribute as either an <em>instance</em> (i.e., <em>data</em>) or a <em>function</em>.</p>\n",
    "</div>"
   ]
  },
  {
   "cell_type": "markdown",
   "id": "872a9897-599e-4476-a5f1-f73cad882434",
   "metadata": {
    "slideshow": {
     "slide_type": "fragment"
    },
    "tags": []
   },
   "source": [
    "<div class=\"alert alert-info\">\n",
    "    <b>Note:</b>\n",
    "    <p>Jupyter can't give you a pop-up window unless the variable you are using to tab-complete is already defined and created!</p>\n",
    "</div>"
   ]
  },
  {
   "cell_type": "markdown",
   "id": "7cf4a38e-c566-45db-8c91-972db3d44b87",
   "metadata": {
    "slideshow": {
     "slide_type": "fragment"
    },
    "tags": []
   },
   "source": [
    "<div class=\"alert alert-info\">\n",
    "    <b>Note:</b>\n",
    "    <p>Jupyter's visual display does not show you <em>private</em> attributes (i.e., attributes with names that start with a double-underscore).</p>\n",
    "</div>"
   ]
  },
  {
   "cell_type": "markdown",
   "id": "e2151d11-1e01-49da-9c12-668bbeaf2a4e",
   "metadata": {},
   "source": [
    "<div style=\"float: left;\"><a href=\"../index.ipynb\">[Home]</a></div>\n",
    "<div style=\"float: right;\"><a href=\"02.ipynb\">&laquo;&nbsp;Previous</a>&nbsp;|&nbsp;<a href=\"04.ipynb\">Next&nbsp;&raquo;</a></div>"
   ]
  }
 ],
 "metadata": {
  "kernelspec": {
   "display_name": "Python 3 (ipykernel)",
   "language": "python",
   "name": "python3"
  },
  "language_info": {
   "codemirror_mode": {
    "name": "ipython",
    "version": 3
   },
   "file_extension": ".py",
   "mimetype": "text/x-python",
   "name": "python",
   "nbconvert_exporter": "python",
   "pygments_lexer": "ipython3",
   "version": "3.7.10"
  }
 },
 "nbformat": 4,
 "nbformat_minor": 5
}
