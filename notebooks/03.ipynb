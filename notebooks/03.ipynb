{
 "cells": [
  {
   "cell_type": "markdown",
   "id": "35551682-0535-41c3-9737-a7ff0bb1e679",
   "metadata": {
    "slideshow": {
     "slide_type": "subslide"
    },
    "tags": []
   },
   "source": [
    "# How do you use objects?\n",
    "\n",
    "Now that you know what an object *is*, let's take a look at how you use them in your own Python code."
   ]
  },
  {
   "cell_type": "markdown",
   "id": "33a0b316-a52a-4396-a3a5-8a2b8987acb2",
   "metadata": {
    "slideshow": {
     "slide_type": "subslide"
    },
    "tags": []
   },
   "source": [
    "## Modules are Objects\n",
    "\n",
    "Individual Python files can be *imported* into other Python files using the `import` command.  For example, a Python file named `mymodule.py` can be \"loaded\" in another Python file with the command:\n",
    "\n",
    "```python\n",
    "import mymodule\n",
    "```\n",
    "\n",
    "We call these \"importable\" Python files *modules*, and *modules* are *objects* because they can contain both *data* (i.e., variables) and *functions*."
   ]
  },
  {
   "cell_type": "markdown",
   "id": "919c352a-5909-4ed2-b9ed-a4309a1f5747",
   "metadata": {},
   "source": [
    "### Example: Let's create a module with data and a function..."
   ]
  },
  {
   "cell_type": "code",
   "execution_count": null,
   "id": "27632032-fb86-45d1-ae0c-df4ed92bd6c0",
   "metadata": {},
   "outputs": [],
   "source": [
    "%%writefile mymodule.py\n",
    "\n",
    "# Here's a variable\n",
    "x = 2\n",
    "\n",
    "# Here's a function\n",
    "def f():\n",
    "    return 'Hello!'"
   ]
  },
  {
   "cell_type": "code",
   "execution_count": null,
   "id": "60ef2986-e8a5-4fc2-942b-e970cca8249f",
   "metadata": {},
   "outputs": [],
   "source": [
    "import mymodule"
   ]
  },
  {
   "cell_type": "markdown",
   "id": "20bca3b8-5718-4093-b793-3feacc5037ba",
   "metadata": {},
   "source": [
    "## Attributes & \"Dot Syntax\"\n",
    "\n",
    "The *Attributes* of an object are either *data variables* or *functions*, and in Python both of them can be accessed using \"dot syntax\".  For example, you can retrieve the variables and functions defined in a module like so:"
   ]
  },
  {
   "cell_type": "markdown",
   "id": "35f6c54f-1f5d-4216-90c9-bffe9a489b34",
   "metadata": {},
   "source": [
    "### Example: Retrieve a data variable from the module"
   ]
  },
  {
   "cell_type": "code",
   "execution_count": null,
   "id": "c509c8a3-ab90-4f94-88a3-40ac0787e400",
   "metadata": {},
   "outputs": [],
   "source": [
    "mymodule.x"
   ]
  },
  {
   "cell_type": "markdown",
   "id": "b9ae2d45-3f27-4f96-9196-9e90c538c5f4",
   "metadata": {},
   "source": [
    "### Example: Retrieve a function from the module"
   ]
  },
  {
   "cell_type": "code",
   "execution_count": null,
   "id": "77cca364-af83-4f40-87a4-68f8528d450d",
   "metadata": {},
   "outputs": [],
   "source": [
    "mymodule.f"
   ]
  },
  {
   "cell_type": "markdown",
   "id": "0f3351a3-5bd9-44ba-9da0-0025de51c139",
   "metadata": {},
   "source": [
    "### Example: Call a function from the module"
   ]
  },
  {
   "cell_type": "code",
   "execution_count": null,
   "id": "b178cb67-3e1a-4410-b3b3-a2452f9929a7",
   "metadata": {},
   "outputs": [],
   "source": [
    "mymodule.f()"
   ]
  },
  {
   "cell_type": "markdown",
   "id": "98635f67-6993-42b0-85bf-6f6ab579f0e8",
   "metadata": {},
   "source": [
    "Not terribly surprising, I hope!"
   ]
  },
  {
   "cell_type": "markdown",
   "id": "613ea585-6fe9-4cd1-8026-384a2ab458e0",
   "metadata": {},
   "source": [
    "|    |    |    |\n",
    "| :- | -- | -: |\n",
    "| [[Home]](../index.ipynb) | <img width=\"100%\" height=\"1\" src=\"../images/empty.png\"/> | [&laquo;&nbsp;Previous](02.ipynb)&nbsp;\\|&nbsp;[Next&nbsp;&raquo;](04.ipynb) |"
   ]
  }
 ],
 "metadata": {
  "kernelspec": {
   "display_name": "Python 3 (ipykernel)",
   "language": "python",
   "name": "python3"
  },
  "language_info": {
   "codemirror_mode": {
    "name": "ipython",
    "version": 3
   },
   "file_extension": ".py",
   "mimetype": "text/x-python",
   "name": "python",
   "nbconvert_exporter": "python",
   "pygments_lexer": "ipython3",
   "version": "3.9.7"
  }
 },
 "nbformat": 4,
 "nbformat_minor": 5
}
