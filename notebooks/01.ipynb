{
 "cells": [
  {
   "cell_type": "markdown",
   "id": "74919940-9e74-4c4d-b827-8d889790c1fb",
   "metadata": {
    "slideshow": {
     "slide_type": "slide"
    },
    "tags": []
   },
   "source": [
    "# What is an *object*?\n",
    "\n",
    "<img src=\"../images/object_def.svg\" style=\"padding-left: 3em; height: 3em;\">\n",
    "\n",
    "When computer scientists use the term *object* they are referring to \"things\" that group together *data* and *functions*.  That is, *objects* are just a way of organizing your code and changing the way your code is used by other programmers.\n",
    "\n",
    "And that means *using objects* is really just a preference!  There is nothing that says you *need* to use objects in your code!  Rather, you might *want* to use objects in your own code because object oriented programming can be your code:\n",
    "\n",
    "- easier to *maintain*,\n",
    "- easier to *debug*,\n",
    "- easier to *understand*, and\n",
    "- easier to *scale* (i.e., as your codebase gets larger)."
   ]
  },
  {
   "cell_type": "markdown",
   "id": "d5de4e5c-180e-4167-a1c9-6be4c26d78e6",
   "metadata": {},
   "source": [
    "|    |    |    |\n",
    "| :- | -- | -: |\n",
    "| [[Home]](../index.ipynb) | <img width=\"100%\" height=\"1\" src=\"../images/empty.png\"/> | [&laquo;&nbsp;Previous](../index.ipynb)&nbsp;\\|&nbsp;[Next&nbsp;&raquo;](02.ipynb) |"
   ]
  }
 ],
 "metadata": {
  "kernelspec": {
   "display_name": "Python 3 (ipykernel)",
   "language": "python",
   "name": "python3"
  },
  "language_info": {
   "codemirror_mode": {
    "name": "ipython",
    "version": 3
   },
   "file_extension": ".py",
   "mimetype": "text/x-python",
   "name": "python",
   "nbconvert_exporter": "python",
   "pygments_lexer": "ipython3",
   "version": "3.9.7"
  }
 },
 "nbformat": 4,
 "nbformat_minor": 5
}
