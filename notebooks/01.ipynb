{
 "cells": [
  {
   "cell_type": "markdown",
   "id": "74919940-9e74-4c4d-b827-8d889790c1fb",
   "metadata": {
    "slideshow": {
     "slide_type": "slide"
    },
    "tags": []
   },
   "source": [
    "# What is an *object*?\n",
    "\n",
    "<img src=\"../images/object_def.svg\" style=\"padding-left: 3em; height: 3em;\">\n",
    "\n",
    "When computer scientists use the term *object* they are referring to \"things\" that group together *data* and *functions*.  That is, *objects* are just a way of organizing your code and changing the way your code is used by other programmers.\n",
    "\n",
    "And that means *using objects* is really just a preference!  There is nothing that says you *need* to use objects in your code!  Rather, you might *want* to use objects in your own code because object oriented programming can be your code:\n",
    "\n",
    "- easier to *maintain*,\n",
    "- easier to *debug*,\n",
    "- easier to *understand*, and\n",
    "- easier to *scale* (i.e., as your codebase gets larger)."
   ]
  },
  {
   "cell_type": "markdown",
   "id": "2d96b47f-5144-4c78-8386-7a24decd72a8",
   "metadata": {},
   "source": [
    "<div style=\"float: left;\"><a href=\"../index.ipynb\">[Home]</a></div>\n",
    "<div style=\"float: right;\"><a href=\"../index.ipynb\">&laquo;&nbsp;Previous</a>&nbsp;|&nbsp;<a href=\"02.ipynb\">Next&nbsp;&raquo;</a></div>"
   ]
  }
 ],
 "metadata": {
  "kernelspec": {
   "display_name": "Python 3 (ipykernel)",
   "language": "python",
   "name": "python3"
  },
  "language_info": {
   "codemirror_mode": {
    "name": "ipython",
    "version": 3
   },
   "file_extension": ".py",
   "mimetype": "text/x-python",
   "name": "python",
   "nbconvert_exporter": "python",
   "pygments_lexer": "ipython3",
   "version": "3.7.10"
  }
 },
 "nbformat": 4,
 "nbformat_minor": 5
}
