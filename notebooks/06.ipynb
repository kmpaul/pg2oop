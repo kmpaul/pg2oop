{
 "cells": [
  {
   "cell_type": "markdown",
   "id": "ea244740-08f7-4313-938f-9cd7d3514529",
   "metadata": {
    "tags": []
   },
   "source": [
    "# How do you create an object? (continued)"
   ]
  },
  {
   "cell_type": "markdown",
   "id": "3641ffaa-d7f7-4ef6-a359-b0e3cb0a569e",
   "metadata": {},
   "source": [
    "## Inheritance\n",
    "\n",
    "One of the important principles of object oriented programming is *inheritance*: the ability to create *child* classes from a *parent* class and have the *child* class inherit all of the data and methods of the *parent*."
   ]
  },
  {
   "cell_type": "markdown",
   "id": "94fdbde4-b779-4578-a079-04aa48a7d447",
   "metadata": {},
   "source": [
    "### Example: A simple example of inheritance\n",
    "\n",
    "Let's look at a simple example.  We will write a `Parent` class that implements a `get_x` method to print out the value of the object's *private* `__x` attribute."
   ]
  },
  {
   "cell_type": "code",
   "execution_count": null,
   "id": "f1dcb3a5-5775-4c6a-b5ba-f21c07c6540a",
   "metadata": {},
   "outputs": [],
   "source": [
    "class Parent:\n",
    "    \n",
    "    def __init__(self, x):\n",
    "        self.__x = x\n",
    "    \n",
    "    def get_x(self):\n",
    "        return self.__x"
   ]
  },
  {
   "cell_type": "markdown",
   "id": "f9a4f7d7-bcde-4f3e-bbfb-a795493aeaef",
   "metadata": {},
   "source": [
    "Now, let's define a `Child` class that *inherits* from `Parent`."
   ]
  },
  {
   "cell_type": "code",
   "execution_count": null,
   "id": "5e069f03-8c68-47f7-8b00-86893658381c",
   "metadata": {},
   "outputs": [],
   "source": [
    "class Child(Parent):\n",
    "    \n",
    "    def __init__(self, x, y=2):\n",
    "        super().__init__(x)\n",
    "        self.__y = y\n",
    "    \n",
    "    def get_y(self):\n",
    "        return self.__y"
   ]
  },
  {
   "cell_type": "code",
   "execution_count": null,
   "id": "20423737-63a5-49af-95b5-8b9443ca2067",
   "metadata": {},
   "outputs": [],
   "source": [
    "c = Child(1, 3)"
   ]
  },
  {
   "cell_type": "code",
   "execution_count": null,
   "id": "f01fa02a-f112-41a0-bd36-f481f4894559",
   "metadata": {},
   "outputs": [],
   "source": [
    "c.get_x()"
   ]
  },
  {
   "cell_type": "code",
   "execution_count": null,
   "id": "2486f822-626f-484d-95e0-da0295c25527",
   "metadata": {},
   "outputs": [],
   "source": [
    "c.get_y()"
   ]
  },
  {
   "cell_type": "markdown",
   "id": "90c8fa7d-977c-4a55-a4f7-171768593d64",
   "metadata": {},
   "source": [
    "<div class=\"alert alert-info\">\n",
    "    <b>Note:</b>\n",
    "    <p>The <tt>c</tt> variable is an instance of a <tt>Child</tt> class, but the <tt>Child</tt> class doesn't define the <tt>get_x()</tt> method!  Rather, the <tt>Child</tt> instance <em>inherits</em> its <tt>get_x()</tt> method from the <tt>Parent</tt> class.</p>\n",
    "</div>"
   ]
  },
  {
   "cell_type": "markdown",
   "id": "553bc231-9e6b-4c73-9ed2-4a01ea0c8e7b",
   "metadata": {},
   "source": [
    "## Private Attributes\n",
    "\n",
    "Notice how both the `Parent` and `Child` classes have attributes whose names start with a *double underscore*, `__x` and `__y`!  These are called *private* attributes.  In Python, any attribute whose name starts with a double underscore is \"private\" and you won't be able to access it *from outside of the owning class itself!*  "
   ]
  },
  {
   "cell_type": "code",
   "execution_count": null,
   "id": "0fda2e53-bfc1-440d-95ad-67a8d30a68d8",
   "metadata": {},
   "outputs": [],
   "source": [
    "c.__x"
   ]
  },
  {
   "cell_type": "code",
   "execution_count": null,
   "id": "1c8b6bc2-3323-4c36-8508-bcc6d6efb706",
   "metadata": {},
   "outputs": [],
   "source": [
    "c.__y"
   ]
  },
  {
   "cell_type": "markdown",
   "id": "6d1beaf7-7a28-4bad-8237-40a3fa995015",
   "metadata": {},
   "source": [
    "<div class=\"alert alert-info\">\n",
    "    <b>Note:</b>\n",
    "    <p>The <tt>__x</tt> variable can only be accessed from within the <tt>Parent</tt>, and it cannot even be accessed from within the <tt>Child</tt> class!  See the next example...</p>\n",
    "</div>"
   ]
  },
  {
   "cell_type": "markdown",
   "id": "2889e128-e116-48c8-9da6-39d5010becbb",
   "metadata": {},
   "source": [
    "Now, let's define another child class that implements a method that tries to access the `Parent` class's `__x` attribute."
   ]
  },
  {
   "cell_type": "code",
   "execution_count": null,
   "id": "8abdc92c-2906-48d2-a3ac-5c2e7f6b8199",
   "metadata": {},
   "outputs": [],
   "source": [
    "class Child2(Parent):\n",
    "    \n",
    "    def break_me(self):\n",
    "        return self.__x\n",
    "    \n",
    "    def dont_break(self):\n",
    "        return self.get_x()"
   ]
  },
  {
   "cell_type": "code",
   "execution_count": null,
   "id": "dd9c8fe2-188e-4167-943b-c07e25767faa",
   "metadata": {},
   "outputs": [],
   "source": [
    "c2 = Child2(4)"
   ]
  },
  {
   "cell_type": "code",
   "execution_count": null,
   "id": "97b1f27a-3684-4820-8bfd-bd5772919017",
   "metadata": {},
   "outputs": [],
   "source": [
    "c2.break_me()"
   ]
  },
  {
   "cell_type": "code",
   "execution_count": null,
   "id": "8575399a-7f31-4522-b042-76e2db77081a",
   "metadata": {},
   "outputs": [],
   "source": [
    "c2.dont_break()"
   ]
  },
  {
   "cell_type": "markdown",
   "id": "a2e5d2d3-896a-4207-a358-86d4f2d0449c",
   "metadata": {},
   "source": [
    "This is an example of **encapsulation**, where we have used *private* attributes to force the user/developer to use certain methods or data and prevented them from using others!  You can use this principle to define the actual *interface* you want users to use with your code."
   ]
  },
  {
   "cell_type": "markdown",
   "id": "62fc9a4c-e604-4517-b6e9-ab92734e1155",
   "metadata": {},
   "source": [
    "## Hidden Variables\n",
    "\n",
    "By *convention*, you can also use attributes whose names start with a *single* underscore to tell other developers to avoid using the attribute directly.  These attributes are considered *hidden.*  Unlike with *private* attributes, single-underscore variables can still be accessed directly.  So, it is important to understand that this is just a *convention* that is obeyed by the Python community.\n",
    "\n",
    "There are some actual functions that obey this convention, though.  For example, if you import attributes from a module with a *wildcard* (e.g., `from my_module import *`), it will not import *hidden* or *private* attributes."
   ]
  },
  {
   "cell_type": "code",
   "execution_count": null,
   "id": "35433590-64d7-4381-982b-419d4f3406c6",
   "metadata": {},
   "outputs": [],
   "source": [
    "%%writefile my_module2.py\n",
    "\n",
    "_x = 5\n",
    "\n",
    "def _f():\n",
    "    return _x\n",
    "\n",
    "def g():\n",
    "    return _f()"
   ]
  },
  {
   "cell_type": "code",
   "execution_count": null,
   "id": "6c5742b6-e169-47d8-bff9-61cd12f8b86f",
   "metadata": {},
   "outputs": [],
   "source": [
    "from my_module2 import *"
   ]
  },
  {
   "cell_type": "code",
   "execution_count": null,
   "id": "c1a38e43-0688-4fc0-aefd-2eb2f56df79c",
   "metadata": {},
   "outputs": [],
   "source": [
    "_x"
   ]
  },
  {
   "cell_type": "code",
   "execution_count": null,
   "id": "4e8696ca-eed7-4a68-a2c9-deb5741dcc7b",
   "metadata": {},
   "outputs": [],
   "source": [
    "_f()"
   ]
  },
  {
   "cell_type": "code",
   "execution_count": null,
   "id": "6b4e3cd9-8770-4462-b0bc-fcae2c4d9ccf",
   "metadata": {},
   "outputs": [],
   "source": [
    "g()"
   ]
  },
  {
   "cell_type": "markdown",
   "id": "6c3c0c8e-7367-4398-8046-b4b32fd2d2a3",
   "metadata": {},
   "source": [
    "<div class=\"alert alert-info\">\n",
    "    <b>Note:</b>\n",
    "    <p>Hidden attributes are also not displayed by Jupyter Notebook's <b>tab completion</b> functionality.</p>\n",
    "</div>"
   ]
  },
  {
   "cell_type": "markdown",
   "id": "9661487b-7e27-4055-9fb0-94eb928691bc",
   "metadata": {},
   "source": [
    "|    |    |    |\n",
    "| :- | -- | -: |\n",
    "| [[Home]](../index.ipynb) | <img width=\"100%\" height=\"1\" src=\"../images/empty.png\"/> | [&laquo;&nbsp;Previous](05.ipynb)&nbsp;\\|&nbsp;[Next&nbsp;&raquo;](07.ipynb) |"
   ]
  }
 ],
 "metadata": {
  "kernelspec": {
   "display_name": "Python 3 (ipykernel)",
   "language": "python",
   "name": "python3"
  },
  "language_info": {
   "codemirror_mode": {
    "name": "ipython",
    "version": 3
   },
   "file_extension": ".py",
   "mimetype": "text/x-python",
   "name": "python",
   "nbconvert_exporter": "python",
   "pygments_lexer": "ipython3",
   "version": "3.9.7"
  }
 },
 "nbformat": 4,
 "nbformat_minor": 5
}
