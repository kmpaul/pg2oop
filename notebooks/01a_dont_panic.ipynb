{
 "cells": [
  {
   "cell_type": "markdown",
   "id": "255297c0-577a-4cac-9011-82c97512c590",
   "metadata": {
    "slideshow": {
     "slide_type": "subslide"
    },
    "tags": []
   },
   "source": [
    "# Don't Panic!  You're already familiar with them...\n",
    "\n",
    "Individual Python files can be *imported* into other Python files using the `import` command.  For example, a Python file named `my_module.py` can be \"loaded\" in another Python file with the command:\n",
    "\n",
    "```python\n",
    "import my_module\n",
    "```\n",
    "\n",
    "We call these \"importable\" Python files *modules*, and *modules* are *objects* because they can contain both *data* (i.e., variables) and *functions*."
   ]
  },
  {
   "cell_type": "markdown",
   "id": "bbd34c42-d9ca-43e3-a4c0-8a1a4df615ca",
   "metadata": {},
   "source": [
    "You probably also use other kinds of objects in Python all the time!"
   ]
  },
  {
   "cell_type": "code",
   "execution_count": null,
   "id": "e0ae2d3f-806e-4224-a2c0-218f17042e6d",
   "metadata": {},
   "outputs": [],
   "source": []
  }
 ],
 "metadata": {
  "kernelspec": {
   "display_name": "Python 3 (ipykernel)",
   "language": "python",
   "name": "python3"
  },
  "language_info": {
   "codemirror_mode": {
    "name": "ipython",
    "version": 3
   },
   "file_extension": ".py",
   "mimetype": "text/x-python",
   "name": "python",
   "nbconvert_exporter": "python",
   "pygments_lexer": "ipython3",
   "version": "3.7.10"
  }
 },
 "nbformat": 4,
 "nbformat_minor": 5
}
