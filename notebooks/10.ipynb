{
 "cells": [
  {
   "cell_type": "markdown",
   "id": "2dd23757-7cba-44b2-844a-5eff30aa513c",
   "metadata": {},
   "source": [
    "# *When* should you create an object?"
   ]
  },
  {
   "cell_type": "markdown",
   "id": "23edffdb-a40e-4ef3-abf7-3c5a0bf2953b",
   "metadata": {},
   "source": [
    "## Complicated Function Signatures (continued)\n",
    "\n",
    "Here is my solution to the previous problem."
   ]
  },
  {
   "cell_type": "code",
   "execution_count": null,
   "id": "281cfac9-07b6-4804-bbad-345689a8aa5e",
   "metadata": {},
   "outputs": [],
   "source": [
    "class Environment:\n",
    "    \n",
    "    def __init__(self, times, values):\n",
    "        self.__times = times\n",
    "        self.__values = values\n",
    "    \n",
    "    def __integrate_trapezoid(self, v):\n",
    "        x = self.__times[v]\n",
    "        y = self.__values[v]\n",
    "        return sum(0.5*(x[i] - x[i-1])*(y[i] + y[i-1]) for i in range(1, len(x)))\n",
    "\n",
    "    def get_times(self, v):\n",
    "        return self.__times[v]\n",
    "    \n",
    "    def get_values(self, v):\n",
    "        return self.__values[v]\n",
    "    \n",
    "    def compute_v1(self):\n",
    "        return self.__integrate_trapezoid('A') - self.__integrate_trapezoid('B')\n",
    "\n",
    "    def compute_v2(self):\n",
    "        all_v = ( self.get_values('A') + self.get_values('B') + \n",
    "                  self.get_values('C') + self.get_values('D') )\n",
    "        return sum(all_v) / len(all_v)\n",
    "\n",
    "    def compute_v3(self):\n",
    "        a_b = self.__integrate_trapezoid('A') - self.__integrate_trapezoid('B')\n",
    "        c_d = self.__integrate_trapezoid('C') + self.__integrate_trapezoid('D')\n",
    "        return a_b / c_d\n",
    "\n",
    "    def compute_v4(self):\n",
    "        return sorted(self.get_times('A') + self.get_times('B') +\n",
    "                      self.get_times('C') + self.get_times('D'))\n",
    "    "
   ]
  },
  {
   "cell_type": "markdown",
   "id": "346382f7-f850-4ed3-b580-ec3324f7522c",
   "metadata": {},
   "source": [
    "And then I modified the `read_instrument_data` function to return an `Environment` instance."
   ]
  },
  {
   "cell_type": "code",
   "execution_count": null,
   "id": "4b5081da-036f-41d3-b6ae-54f7bad2fa22",
   "metadata": {},
   "outputs": [],
   "source": [
    "def read_instrument_data(filename):\n",
    "    values = {}\n",
    "    times = {}\n",
    "    with open(filename) as f:\n",
    "        for record in f:\n",
    "            var,time,value = record.split(',')\n",
    "            if var not in values:\n",
    "                values[var] = []\n",
    "                times[var] = []\n",
    "            values[var].append(float(value))\n",
    "            times[var].append(float(time))\n",
    "    return Environment(times, values)"
   ]
  },
  {
   "cell_type": "markdown",
   "id": "4e5675ed-c5c6-441f-bdc6-5bc0bab28edf",
   "metadata": {},
   "source": [
    "Now, we should be able to test this new class out to see if it gives the same results as we got previously. "
   ]
  },
  {
   "cell_type": "code",
   "execution_count": null,
   "id": "75ed6a3e-5f40-4ab3-a8ed-ddf84d4ed537",
   "metadata": {},
   "outputs": [],
   "source": [
    "env = read_instrument_data('instrument2.csv')"
   ]
  },
  {
   "cell_type": "code",
   "execution_count": null,
   "id": "67b73cd5-4ea1-4922-b0f5-66593b561400",
   "metadata": {},
   "outputs": [],
   "source": [
    "env.get_times('A')"
   ]
  },
  {
   "cell_type": "code",
   "execution_count": null,
   "id": "339fccff-d545-4338-bac5-8b91707580dc",
   "metadata": {},
   "outputs": [],
   "source": [
    "env.get_values('A')"
   ]
  },
  {
   "cell_type": "code",
   "execution_count": null,
   "id": "cc81ad8f-3c9f-4e7f-b70f-9d5c36a71202",
   "metadata": {},
   "outputs": [],
   "source": [
    "env.compute_v1()"
   ]
  },
  {
   "cell_type": "code",
   "execution_count": null,
   "id": "e6f66215-5a5a-456a-b379-aafce7c9267f",
   "metadata": {},
   "outputs": [],
   "source": [
    "env.compute_v2()"
   ]
  },
  {
   "cell_type": "code",
   "execution_count": null,
   "id": "a4a38cda-4ed0-443b-8ceb-5b4416cce26e",
   "metadata": {},
   "outputs": [],
   "source": [
    "env.compute_v3()"
   ]
  },
  {
   "cell_type": "code",
   "execution_count": null,
   "id": "220cb49b-31f7-4747-9b9c-4a45aa7f48ed",
   "metadata": {},
   "outputs": [],
   "source": [
    "env.compute_v4()"
   ]
  },
  {
   "cell_type": "markdown",
   "id": "615a12cb-f78e-4c74-87d6-198a8b81cd04",
   "metadata": {},
   "source": [
    "Looks correct!"
   ]
  },
  {
   "cell_type": "markdown",
   "id": "bf1097f8-3549-4782-aec2-36724f6e1aa9",
   "metadata": {},
   "source": [
    "## Takeaways\n",
    "\n",
    "Sometimes the data itself doesn't have to be complicated; it can just be numerous!  And when the data describing different aspects of the same thing grows like that, the complexity can show up in both the number of variables used to describe the different aspects of the same thing grows, the signatures of the functions operating on that data can grow and get complex, too!  You can reduce a lot of burden on the user (and yourself) if you bundle all of that data and those functions together into a object."
   ]
  },
  {
   "cell_type": "markdown",
   "id": "9c0078c4-5f5c-4cc5-ad4b-31fb5865b817",
   "metadata": {},
   "source": [
    "|    |    |    |\n",
    "| :- | -- | -: |\n",
    "| [[Home]](../index.ipynb) | <img width=\"100%\" height=\"1\" src=\"../images/empty.png\"/> | [&laquo;&nbsp;Previous](09.ipynb)&nbsp;\\|&nbsp;[Next&nbsp;&raquo;](11.ipynb) |"
   ]
  }
 ],
 "metadata": {
  "kernelspec": {
   "display_name": "Python 3 (ipykernel)",
   "language": "python",
   "name": "python3"
  },
  "language_info": {
   "codemirror_mode": {
    "name": "ipython",
    "version": 3
   },
   "file_extension": ".py",
   "mimetype": "text/x-python",
   "name": "python",
   "nbconvert_exporter": "python",
   "pygments_lexer": "ipython3",
   "version": "3.9.7"
  }
 },
 "nbformat": 4,
 "nbformat_minor": 5
}
