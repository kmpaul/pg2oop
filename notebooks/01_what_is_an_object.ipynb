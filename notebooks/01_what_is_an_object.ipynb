{
 "cells": [
  {
   "cell_type": "markdown",
   "id": "74919940-9e74-4c4d-b827-8d889790c1fb",
   "metadata": {
    "slideshow": {
     "slide_type": "slide"
    },
    "tags": []
   },
   "source": [
    "# What is an *object*?\n",
    "\n",
    "```{image} ../images/object_def.svg\n",
    ":class: ml-2 mb-2\n",
    ":height: 40px\n",
    "```\n",
    "\n",
    "When computer scientists use the term *object* they are referring to \"things\" that group together *data* and *functions*.  That is, *objects* are just a way of organizing your code, and that means *using objects* is really just a preference.  There is nothing that says you *need* to use objects in your code!  Rather, you might *want* to use objects in your own code because object oriented programming can be your code easier to maintain, easier to understand, and easier to scale."
   ]
  },
  {
   "cell_type": "code",
   "execution_count": null,
   "id": "31dd00a1-2a94-430f-9ce2-047aad0fbab6",
   "metadata": {},
   "outputs": [],
   "source": []
  }
 ],
 "metadata": {
  "kernelspec": {
   "display_name": "Python 3 (ipykernel)",
   "language": "python",
   "name": "python3"
  },
  "language_info": {
   "codemirror_mode": {
    "name": "ipython",
    "version": 3
   },
   "file_extension": ".py",
   "mimetype": "text/x-python",
   "name": "python",
   "nbconvert_exporter": "python",
   "pygments_lexer": "ipython3",
   "version": "3.7.10"
  }
 },
 "nbformat": 4,
 "nbformat_minor": 5
}
