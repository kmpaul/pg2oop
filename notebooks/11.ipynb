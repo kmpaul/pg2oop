{
 "cells": [
  {
   "cell_type": "markdown",
   "id": "ba36d80e-979f-48fc-9b93-3025269ce31f",
   "metadata": {},
   "source": [
    "# *When* should you create an object?"
   ]
  },
  {
   "cell_type": "markdown",
   "id": "83a42176-3de5-4661-b687-c97a20201a1a",
   "metadata": {},
   "source": [
    "## Other reasons to create your own objects"
   ]
  },
  {
   "cell_type": "markdown",
   "id": "cf7a324e-3f63-4065-8c74-cb82e1fcb0d0",
   "metadata": {},
   "source": [
    "### When you want to take advantage of Python's *Special Methods*\n",
    "\n",
    "For example, if you want to give your data the ability to be \"added to\" or \"subtracted from\" other instances of the same data type.\n",
    "\n",
    "Or if you want to allow your data to be sorted with the `sorted` Python function, you probably want to implement *Rich Comparison Special Methods* (i.e., `<` and/or `>`).\n",
    "\n",
    "Or maybe you want to print more information to the user about what your data represents, you might want to implement the `__str__` or `__repr__` *Special Methods*.\n",
    "\n",
    "Learn more about this by reading up on [the Python Data Model](https://docs.python.org/3/reference/datamodel.html#special-method-names)"
   ]
  },
  {
   "cell_type": "markdown",
   "id": "e657a442-037e-4a3e-a281-c71c2a061c72",
   "metadata": {},
   "source": [
    "### When you want to create your own error values\n",
    "\n",
    "You can create new Python `Exception` classes that inherit from base Python exceptions that have names that give the user more information when an error in your code is triggered.\n",
    "\n",
    "For example, the following class:\n",
    "\n",
    "```python\n",
    "class NegativeValueError(ValueError):\n",
    "    pass\n",
    "```\n",
    "\n",
    "is all you need to then:\n",
    "\n",
    "```python\n",
    "raise NegativeValueError(\"You can't have a negative number here!\")\n",
    "```\n",
    "and give the user a more information about why their code failed.\n",
    "\n",
    "<div class=\"alert alert-info\">\n",
    "    <b>Note:</b>\n",
    "    <p>When creating your own <tt>Exception</tt> class, you can do more than is shown above to change the default error message string provided when the <tt>Exception</tt> is <tt>raised</tt>.  Otherwise, as in the example above, do not forget to supply the exception with a useful error message string!</p>\n",
    "</div>"
   ]
  },
  {
   "cell_type": "markdown",
   "id": "dcb4dbff-d1b8-4c62-875d-73d759cf1e04",
   "metadata": {},
   "source": [
    "### Open Development\n",
    "\n",
    "Python is an open source language, and because *everything in Python is an object*, there is a lot of OOP in community Python code!  If you want to contribute to the open source codebase, you probably need to know a little OOP to do so."
   ]
  },
  {
   "cell_type": "markdown",
   "id": "0de6a97e-f558-41b7-a1d8-2761192b1f31",
   "metadata": {},
   "source": [
    "|    |    |    |\n",
    "| :- | -- | -: |\n",
    "| [[Home]](../index.ipynb) | <img width=\"100%\" height=\"1\" src=\"../images/empty.png\"/> | [&laquo;&nbsp;Previous](10.ipynb)&nbsp;\\|&nbsp;[Next&nbsp;&raquo;](12.ipynb) |"
   ]
  }
 ],
 "metadata": {
  "kernelspec": {
   "display_name": "Python 3 (ipykernel)",
   "language": "python",
   "name": "python3"
  },
  "language_info": {
   "codemirror_mode": {
    "name": "ipython",
    "version": 3
   },
   "file_extension": ".py",
   "mimetype": "text/x-python",
   "name": "python",
   "nbconvert_exporter": "python",
   "pygments_lexer": "ipython3",
   "version": "3.9.7"
  }
 },
 "nbformat": 4,
 "nbformat_minor": 5
}
