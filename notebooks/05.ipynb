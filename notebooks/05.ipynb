{
 "cells": [
  {
   "cell_type": "markdown",
   "id": "6de44188-0743-417c-961c-82ae3edc85eb",
   "metadata": {},
   "source": [
    "# Special Class Methods: The Python Data Model\n",
    "\n",
    "When we were introducing and exploring the `dir` built-in function, we noticed that a *lot* of objects have attributes with \"special\" names, in particular names that start and end with a double-underscore (e.g., `__init__`).  *These attributes are special!*  And typically Python reserves special names for these attributes to give the objects special functionality."
   ]
  },
  {
   "cell_type": "markdown",
   "id": "d5230d28-4e2e-44c2-9cfd-6c74ef7eefb7",
   "metadata": {},
   "source": [
    "<div class=\"alert alert-info\">\n",
    "    <b>Note:</b>\n",
    "    <p>There are a <em>lot</em> of special functions that you can define in your own classes to give them special functionality.  You can see them all <a href=\"https://docs.python.org/3/reference/datamodel.html?highlight=data%20model#special-method-names\">here</a>.</p>\n",
    "</div>"
   ]
  },
  {
   "cell_type": "markdown",
   "id": "8c82d108-627b-432a-b590-8c08aadaaa42",
   "metadata": {},
   "source": [
    "## Initializing instance data during construction\n",
    "\n",
    "The common way to initialize instance data at construction time is with the `__init__` function."
   ]
  },
  {
   "cell_type": "markdown",
   "id": "a1544871-a533-4cb0-ae59-1d9fd58972f6",
   "metadata": {},
   "source": [
    "<div style=\"float: left;\"><a href=\"../index.ipynb\">[Home]</a></div>\n",
    "<div style=\"float: right;\"><a href=\"04.ipynb\">&laquo;&nbsp;Previous</a>&nbsp;|&nbsp;<a href=\"06.ipynb\">Next&nbsp;&raquo;</a></div>"
   ]
  }
 ],
 "metadata": {
  "kernelspec": {
   "display_name": "Python 3 (ipykernel)",
   "language": "python",
   "name": "python3"
  },
  "language_info": {
   "codemirror_mode": {
    "name": "ipython",
    "version": 3
   },
   "file_extension": ".py",
   "mimetype": "text/x-python",
   "name": "python",
   "nbconvert_exporter": "python",
   "pygments_lexer": "ipython3",
   "version": "3.7.10"
  }
 },
 "nbformat": 4,
 "nbformat_minor": 5
}
