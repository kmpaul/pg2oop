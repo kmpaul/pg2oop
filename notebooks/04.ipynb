{
 "cells": [
  {
   "cell_type": "markdown",
   "id": "da075b35-972e-48ef-a772-57705e46f927",
   "metadata": {},
   "source": [
    "# Objects, Classes, and Instances\n",
    "\n",
    "Before we get too far ahead of ourselves, we need to define a few terms so that we can keep some things perfectly clear as we move forward.\n",
    "\n",
    "As we've already defined, **objects** are \"things\" that contain (or own) attributes, and attributes can be either *data* or *functions*.\n",
    "\n",
    "> **Classes** are the *blueprints* for how to make an object.  Think of classes as the underlying *code* that Python uses to build the object when you first create it.  *Classes* are custom *object types*.\n",
    "\n",
    "> **Instances** are the *real-world examples* of an object.  Think of instances as the things that Python uses the *blueprint code* to create."
   ]
  },
  {
   "cell_type": "markdown",
   "id": "8a934c5b-18b4-4ebe-bed1-c22519d1baff",
   "metadata": {},
   "source": [
    "## A Simple Class\n",
    "\n",
    "In Python, classes are defined using the `class` declaration.  Like the `def` declaration used to define functions, the \"contents\" fo the `class` are all indented within the \"class block.\"\n",
    "\n",
    "Since classes are blueprints for how to create an object, the \"class block\" can contain definitions for data (i.e., variables) and functions (called *methods* in classes).\n",
    "\n",
    "***But*** you need to keep track of \"what owns what!\""
   ]
  },
  {
   "cell_type": "markdown",
   "id": "f37f9f01-c1b3-46a0-9652-2ff128ea8391",
   "metadata": {},
   "source": [
    "#### Example: A super simple class"
   ]
  },
  {
   "cell_type": "code",
   "execution_count": 1,
   "id": "3f9bbe1a-d22b-4e18-9b86-6c408a253cc6",
   "metadata": {},
   "outputs": [],
   "source": [
    "class MyClass:\n",
    "    \"\"\"\n",
    "    This is my simple class!\n",
    "    \"\"\"\n",
    "    \n",
    "    # This is an example of a \"class-owned variable\"\n",
    "    x = 2\n",
    "    \n",
    "    # This is an example of a \"class-owned function\"\n",
    "    @staticmethod\n",
    "    def f():\n",
    "        return 'Hello!'\n",
    "    \n",
    "    # This is an example of an \"instance-owned function\"...\n",
    "    def set_y(self, y):\n",
    "        self.y = y # ...that defines an \"instance-owned variable\""
   ]
  },
  {
   "cell_type": "markdown",
   "id": "7978c0d7-09c6-4004-ba27-5cd77b7ede58",
   "metadata": {},
   "source": [
    "<div class=\"alert alert-info\">\n",
    "    <b>Note:</b>\n",
    "    <p>Data and functions are defined <em>inside</em> the \"class block\"!</p>\n",
    "</div>"
   ]
  },
  {
   "cell_type": "markdown",
   "id": "7168f87d-8f84-4f27-88e1-b029b42cfa2d",
   "metadata": {},
   "source": [
    "<div class=\"alert alert-info\">\n",
    "    <b>Note:</b>\n",
    "    <p>In Python, classes are typically capitalized, but they don't have to be!</p>\n",
    "</div>"
   ]
  },
  {
   "cell_type": "markdown",
   "id": "e2bc0f8e-f920-4f77-8a9c-9d8ee069fae4",
   "metadata": {},
   "source": [
    "<div class=\"alert alert-info\">\n",
    "    <b>Note:</b>\n",
    "    <p>We'll talk about that <tt>self</tt> argument in a little bit!</p>\n",
    "</div>"
   ]
  },
  {
   "cell_type": "markdown",
   "id": "162ec761-4f7f-43fe-9025-1e8e737f40b4",
   "metadata": {},
   "source": [
    "#### Example: *Class-owned* Attributes"
   ]
  },
  {
   "cell_type": "markdown",
   "id": "0ca66314-73df-42ad-87ef-f4b4bdd3ca40",
   "metadata": {},
   "source": [
    "Class-owned attributes (or sometimes just called \"class attributes\") are owned by the *class* itself!  That is, you don't need to create an instance of the class in order to use them!"
   ]
  },
  {
   "cell_type": "code",
   "execution_count": 2,
   "id": "6576ab4f-8cc8-4912-bc57-e010405a2f53",
   "metadata": {},
   "outputs": [
    {
     "data": {
      "text/plain": [
       "2"
      ]
     },
     "execution_count": 2,
     "metadata": {},
     "output_type": "execute_result"
    }
   ],
   "source": [
    "MyClass.x"
   ]
  },
  {
   "cell_type": "code",
   "execution_count": 3,
   "id": "4e3c5d73-b14f-496a-a62b-05012edc2687",
   "metadata": {},
   "outputs": [
    {
     "data": {
      "text/plain": [
       "'Hello!'"
      ]
     },
     "execution_count": 3,
     "metadata": {},
     "output_type": "execute_result"
    }
   ],
   "source": [
    "MyClass.f()"
   ]
  },
  {
   "cell_type": "markdown",
   "id": "6d821fd6-cdd3-49d5-a797-30186d156678",
   "metadata": {},
   "source": [
    "<div class=\"alert alert-info\">\n",
    "    <b>Note:</b>\n",
    "    <p>You need the <tt>staticmethod</tt> decorator to declare a function as a \"class-owned function.\"</p>\n",
    "</div>"
   ]
  },
  {
   "cell_type": "markdown",
   "id": "1be50356-ff5d-40ff-ae98-3f9ad6055665",
   "metadata": {},
   "source": [
    "#### Example: *Instance-owned* Attributes"
   ]
  },
  {
   "cell_type": "markdown",
   "id": "9949b02f-48d4-465c-8e75-5ce5fc0ae898",
   "metadata": {},
   "source": [
    "Instance-owned attributes (or just \"instance attributes\") are owned by the *instance*!  That is, you need to create an actual instance of the class in order to use them!"
   ]
  },
  {
   "cell_type": "code",
   "execution_count": 4,
   "id": "714c6855-be84-400c-a2cd-d243330961eb",
   "metadata": {},
   "outputs": [],
   "source": [
    "# Let's create an instance of the MyClass class\n",
    "mc = MyClass()"
   ]
  },
  {
   "cell_type": "code",
   "execution_count": 5,
   "id": "839edcd7-3097-4b39-a1d9-0a5b42a038e7",
   "metadata": {},
   "outputs": [
    {
     "ename": "AttributeError",
     "evalue": "'MyClass' object has no attribute 'y'",
     "output_type": "error",
     "traceback": [
      "\u001b[0;31m---------------------------------------------------------------------------\u001b[0m",
      "\u001b[0;31mAttributeError\u001b[0m                            Traceback (most recent call last)",
      "\u001b[0;32m/var/folders/6c/yts2b01x3rj8wgdkzlwtqpzcslvb49/T/ipykernel_36787/4110048227.py\u001b[0m in \u001b[0;36m<module>\u001b[0;34m\u001b[0m\n\u001b[0;32m----> 1\u001b[0;31m \u001b[0mmc\u001b[0m\u001b[0;34m.\u001b[0m\u001b[0my\u001b[0m\u001b[0;34m\u001b[0m\u001b[0;34m\u001b[0m\u001b[0m\n\u001b[0m",
      "\u001b[0;31mAttributeError\u001b[0m: 'MyClass' object has no attribute 'y'"
     ]
    }
   ],
   "source": [
    "mc.y"
   ]
  },
  {
   "cell_type": "markdown",
   "id": "5e2aa182-a42c-45e4-85ff-274d60bafc85",
   "metadata": {},
   "source": [
    "<div class=\"alert alert-info\">\n",
    "    <b>Note:</b>\n",
    "    <p>The <tt>y</tt> attribute hasn't been created, yet, because we haven't called the <tt>set_y</tt> function!</p>\n",
    "</div>"
   ]
  },
  {
   "cell_type": "markdown",
   "id": "7694ac5e-32ec-4595-a3dc-9e9105af85eb",
   "metadata": {},
   "source": [
    "So, let's create the `y` attribute by calling the `set_y` function..."
   ]
  },
  {
   "cell_type": "code",
   "execution_count": 6,
   "id": "b16c1ea7-571e-40e4-9c0d-f3846ab49c41",
   "metadata": {},
   "outputs": [],
   "source": [
    "mc.set_y(3)"
   ]
  },
  {
   "cell_type": "code",
   "execution_count": 7,
   "id": "c77d5f51-d437-4440-b5e2-65561dc6cee8",
   "metadata": {},
   "outputs": [
    {
     "data": {
      "text/plain": [
       "3"
      ]
     },
     "execution_count": 7,
     "metadata": {},
     "output_type": "execute_result"
    }
   ],
   "source": [
    "mc.y"
   ]
  },
  {
   "cell_type": "markdown",
   "id": "51fdf368-3cf1-45b2-a62f-95d02042e5d4",
   "metadata": {},
   "source": [
    "<div class=\"alert alert-info\">\n",
    "    <b>Note:</b>\n",
    "    <p>The <tt>set_y</tt> function takes 2 arguments, <tt>self</tt> and <tt>y</tt>, but we supplied only the <tt>y</tt> argument!  In Python, the <tt>self</tt> argument is always a pointer to the <em>instance that owns the function</em>.</p>\n",
    "</div>"
   ]
  },
  {
   "cell_type": "code",
   "execution_count": 8,
   "id": "a21ce342-5150-4fd4-baf4-d0a0e6964f0c",
   "metadata": {},
   "outputs": [],
   "source": [
    "# Or you can call set_y like this...\n",
    "MyClass.set_y(mc, 1)"
   ]
  },
  {
   "cell_type": "code",
   "execution_count": 9,
   "id": "543a907a-c829-48a1-9e86-4fa489641862",
   "metadata": {},
   "outputs": [
    {
     "data": {
      "text/plain": [
       "1"
      ]
     },
     "execution_count": 9,
     "metadata": {},
     "output_type": "execute_result"
    }
   ],
   "source": [
    "mc.y"
   ]
  },
  {
   "cell_type": "markdown",
   "id": "95a2dedb-5c62-48ba-bd4c-4578fae66ea9",
   "metadata": {},
   "source": [
    "#### Example: Changing class data"
   ]
  },
  {
   "cell_type": "markdown",
   "id": "c3fe44f2-19e5-4d3c-8703-39ad9676255a",
   "metadata": {},
   "source": [
    "Recall that `x` is owned by the class..."
   ]
  },
  {
   "cell_type": "code",
   "execution_count": 10,
   "id": "92f80ce1-d7bc-47b7-98f3-e3f4a7f4d795",
   "metadata": {},
   "outputs": [
    {
     "data": {
      "text/plain": [
       "2"
      ]
     },
     "execution_count": 10,
     "metadata": {},
     "output_type": "execute_result"
    }
   ],
   "source": [
    "MyClass.x"
   ]
  },
  {
   "cell_type": "markdown",
   "id": "c6ead291-fb82-414d-86bd-9bc2df0bd1ea",
   "metadata": {},
   "source": [
    "But you can access `x` from an instance, too..."
   ]
  },
  {
   "cell_type": "code",
   "execution_count": 11,
   "id": "049575a1-c5ef-41d0-a7b9-15bc073228ff",
   "metadata": {},
   "outputs": [
    {
     "data": {
      "text/plain": [
       "2"
      ]
     },
     "execution_count": 11,
     "metadata": {},
     "output_type": "execute_result"
    }
   ],
   "source": [
    "mc.x"
   ]
  },
  {
   "cell_type": "markdown",
   "id": "7a5e57ac-308b-49c7-88df-ca5081554a8e",
   "metadata": {},
   "source": [
    "But more importantly..."
   ]
  },
  {
   "cell_type": "code",
   "execution_count": 12,
   "id": "6888a21d-736b-4410-9549-84a8c388129e",
   "metadata": {},
   "outputs": [
    {
     "data": {
      "text/plain": [
       "True"
      ]
     },
     "execution_count": 12,
     "metadata": {},
     "output_type": "execute_result"
    }
   ],
   "source": [
    "mc.x is MyClass.x"
   ]
  },
  {
   "cell_type": "markdown",
   "id": "cf6b1e2f-3f07-430a-8c54-e209831266bf",
   "metadata": {},
   "source": [
    "<div class=\"alert alert-info\">\n",
    "    <b>Note:</b>\n",
    "    <p>This means that the data stored in the class's <tt>x</tt> variable is <em>the same data</em> (i.e., not a copy) as the data stored in the instance's <tt>x</tt> variable.  That is, they both point to the same data!</p>\n",
    "</div>"
   ]
  },
  {
   "cell_type": "markdown",
   "id": "e9603d1e-9ddd-4a73-9865-8400c87f317a",
   "metadata": {},
   "source": [
    "What happens if you change the class's `x`?"
   ]
  },
  {
   "cell_type": "code",
   "execution_count": 13,
   "id": "7de86236-6861-4861-9a96-0b6d06f36f79",
   "metadata": {},
   "outputs": [],
   "source": [
    "MyClass.x = 5"
   ]
  },
  {
   "cell_type": "code",
   "execution_count": 14,
   "id": "021fad08-9656-4ebe-bc90-e60e1f007889",
   "metadata": {},
   "outputs": [
    {
     "data": {
      "text/plain": [
       "5"
      ]
     },
     "execution_count": 14,
     "metadata": {},
     "output_type": "execute_result"
    }
   ],
   "source": [
    "mc.x"
   ]
  },
  {
   "cell_type": "code",
   "execution_count": 15,
   "id": "8aa0bbd7-abb6-44f7-a18e-f41509d05acb",
   "metadata": {},
   "outputs": [
    {
     "data": {
      "text/plain": [
       "True"
      ]
     },
     "execution_count": 15,
     "metadata": {},
     "output_type": "execute_result"
    }
   ],
   "source": [
    "mc.x is MyClass.x"
   ]
  },
  {
   "cell_type": "markdown",
   "id": "c89d4734-bbbb-4a70-b737-0e497224ee13",
   "metadata": {},
   "source": [
    "And since `MyClass` is the blueprint for creating new instances..."
   ]
  },
  {
   "cell_type": "code",
   "execution_count": 16,
   "id": "b6e323b2-8036-480b-99ac-5768212058bc",
   "metadata": {},
   "outputs": [
    {
     "data": {
      "text/plain": [
       "5"
      ]
     },
     "execution_count": 16,
     "metadata": {},
     "output_type": "execute_result"
    }
   ],
   "source": [
    "mc2 = MyClass()\n",
    "mc2.x"
   ]
  },
  {
   "cell_type": "markdown",
   "id": "9e0858f2-573d-44ea-b95c-13df4cf16a42",
   "metadata": {},
   "source": [
    "What happens if you change an instance's `x`?"
   ]
  },
  {
   "cell_type": "code",
   "execution_count": 17,
   "id": "f66445ec-1f45-4158-9933-703250ce73df",
   "metadata": {},
   "outputs": [],
   "source": [
    "mc2.x = 9"
   ]
  },
  {
   "cell_type": "code",
   "execution_count": 18,
   "id": "ed9a04a7-8c51-4e8e-a4d6-1149564dcffd",
   "metadata": {},
   "outputs": [
    {
     "data": {
      "text/plain": [
       "5"
      ]
     },
     "execution_count": 18,
     "metadata": {},
     "output_type": "execute_result"
    }
   ],
   "source": [
    "MyClass.x"
   ]
  },
  {
   "cell_type": "code",
   "execution_count": 19,
   "id": "960cff2d-94d9-4d5c-97d5-0df8be81d50c",
   "metadata": {},
   "outputs": [
    {
     "data": {
      "text/plain": [
       "5"
      ]
     },
     "execution_count": 19,
     "metadata": {},
     "output_type": "execute_result"
    }
   ],
   "source": [
    "mc.x"
   ]
  },
  {
   "cell_type": "code",
   "execution_count": 20,
   "id": "f2b55b79-4973-44ee-9913-23413cf26e6e",
   "metadata": {},
   "outputs": [
    {
     "data": {
      "text/plain": [
       "9"
      ]
     },
     "execution_count": 20,
     "metadata": {},
     "output_type": "execute_result"
    }
   ],
   "source": [
    "mc2.x"
   ]
  },
  {
   "cell_type": "code",
   "execution_count": 21,
   "id": "98c5f20f-beda-484e-b42b-561c749b0225",
   "metadata": {},
   "outputs": [
    {
     "data": {
      "text/plain": [
       "True"
      ]
     },
     "execution_count": 21,
     "metadata": {},
     "output_type": "execute_result"
    }
   ],
   "source": [
    "MyClass.x is mc.x"
   ]
  },
  {
   "cell_type": "code",
   "execution_count": 22,
   "id": "3931d77a-3577-46f8-afb5-f4dc9833ccc2",
   "metadata": {},
   "outputs": [
    {
     "data": {
      "text/plain": [
       "False"
      ]
     },
     "execution_count": 22,
     "metadata": {},
     "output_type": "execute_result"
    }
   ],
   "source": [
    "MyClass.x is mc2.x"
   ]
  },
  {
   "cell_type": "markdown",
   "id": "979d8340-4c59-496f-aad2-3250fd3cd308",
   "metadata": {},
   "source": [
    "***Watch what you are doing when it comes to class data!***"
   ]
  },
  {
   "cell_type": "markdown",
   "id": "b2b0042b-ae3f-4e9f-984c-c4edf7adff08",
   "metadata": {},
   "source": [
    "<div style=\"float: left;\"><a href=\"../index.ipynb\">[Home]</a></div>\n",
    "<div style=\"float: right;\"><a href=\"03.ipynb\">&laquo;&nbsp;Previous</a>&nbsp;|&nbsp;<a href=\"05.ipynb\">Next&nbsp;&raquo;</a></div>"
   ]
  }
 ],
 "metadata": {
  "kernelspec": {
   "display_name": "Python 3 (ipykernel)",
   "language": "python",
   "name": "python3"
  },
  "language_info": {
   "codemirror_mode": {
    "name": "ipython",
    "version": 3
   },
   "file_extension": ".py",
   "mimetype": "text/x-python",
   "name": "python",
   "nbconvert_exporter": "python",
   "pygments_lexer": "ipython3",
   "version": "3.7.10"
  }
 },
 "nbformat": 4,
 "nbformat_minor": 5
}
