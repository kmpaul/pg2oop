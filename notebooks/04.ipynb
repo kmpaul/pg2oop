{
 "cells": [
  {
   "cell_type": "markdown",
   "id": "2f2d57f4-af31-44be-96c2-7079ddbd27b0",
   "metadata": {
    "tags": []
   },
   "source": [
    "# How do you create an object?\n",
    "\n",
    "With a little knowledge, now, of how to use an object in Python, let's look at how you can create *your own* objects using *classes*."
   ]
  },
  {
   "cell_type": "markdown",
   "id": "da075b35-972e-48ef-a772-57705e46f927",
   "metadata": {
    "jp-MarkdownHeadingCollapsed": true,
    "tags": []
   },
   "source": [
    "## Classes and Instances\n",
    "\n",
    "Before we get too far ahead of ourselves, we need to define a few terms so that we can keep some things perfectly clear as we move forward.\n",
    "\n",
    "As we've already defined, **objects** are \"things\" that contain (or own) attributes, and attributes can be either *data* or *functions*.\n",
    "\n",
    "> **Classes** are the *blueprints* for how to make an object.  Think of classes as the underlying *code* that Python uses to build the object when you first create it.  *Classes* are custom *object types*.\n",
    "\n",
    "> **Instances** are the *real-world examples* of an object.  Think of instances as the things that Python uses the *blueprint code* to create."
   ]
  },
  {
   "cell_type": "markdown",
   "id": "8a934c5b-18b4-4ebe-bed1-c22519d1baff",
   "metadata": {},
   "source": [
    "## The Anatomy of a Class\n",
    "\n",
    "In Python, classes are defined using the `class` declaration.  Like the `def` declaration used to define functions, the \"contents\" fo the `class` are all indented within the \"class block.\"\n",
    "\n",
    "Since classes are blueprints for how to create an object, the \"class block\" can contain definitions for data (i.e., variables) and functions (called *methods* in classes).\n",
    "\n",
    "***But*** you need to keep track of \"what owns what!\""
   ]
  },
  {
   "cell_type": "markdown",
   "id": "f37f9f01-c1b3-46a0-9652-2ff128ea8391",
   "metadata": {},
   "source": [
    "### Example: Defining a very simple class\n",
    "\n",
    "Let's define a simple `class` block below with a data variable and a function."
   ]
  },
  {
   "cell_type": "code",
   "execution_count": null,
   "id": "3f9bbe1a-d22b-4e18-9b86-6c408a253cc6",
   "metadata": {},
   "outputs": [],
   "source": [
    "class MyClass:\n",
    "    \"\"\"\n",
    "    This is my simple class!\n",
    "    \"\"\"\n",
    "    \n",
    "    # This variable is owned by the class!\n",
    "    x = 2\n",
    "    \n",
    "    # This function is meant to be used from an instance!\n",
    "    def set_y(self, y):\n",
    "        self.y = y # ...and this variable is owned by the instance!"
   ]
  },
  {
   "cell_type": "markdown",
   "id": "7978c0d7-09c6-4004-ba27-5cd77b7ede58",
   "metadata": {},
   "source": [
    "<div class=\"alert alert-info\">\n",
    "    <b>Note:</b>\n",
    "    <p>Data and functions are defined <em>inside</em> the \"class block\"!</p>\n",
    "</div>"
   ]
  },
  {
   "cell_type": "markdown",
   "id": "7168f87d-8f84-4f27-88e1-b029b42cfa2d",
   "metadata": {},
   "source": [
    "<div class=\"alert alert-info\">\n",
    "    <b>Note:</b>\n",
    "    <p>In Python, classes are typically capitalized, but they don't have to be!</p>\n",
    "</div>"
   ]
  },
  {
   "cell_type": "markdown",
   "id": "e2bc0f8e-f920-4f77-8a9c-9d8ee069fae4",
   "metadata": {},
   "source": [
    "<div class=\"alert alert-info\">\n",
    "    <b>Note:</b>\n",
    "    <p>We'll talk about that <tt>self</tt> argument in a little bit!</p>\n",
    "</div>"
   ]
  },
  {
   "cell_type": "markdown",
   "id": "37341968-4154-486c-9b4d-1d4d9477bd6d",
   "metadata": {},
   "source": [
    "### Example: Creating an instance of a class\n",
    "\n",
    "We can create an instance of the class we defined above by \"calling\" the class, which returns the instance."
   ]
  },
  {
   "cell_type": "code",
   "execution_count": null,
   "id": "52011d20-7d7e-4a7d-aae3-526a11c8d70b",
   "metadata": {},
   "outputs": [],
   "source": [
    "mc = MyClass()"
   ]
  },
  {
   "cell_type": "markdown",
   "id": "162ec761-4f7f-43fe-9025-1e8e737f40b4",
   "metadata": {},
   "source": [
    "### Example: Class variables"
   ]
  },
  {
   "cell_type": "markdown",
   "id": "0ca66314-73df-42ad-87ef-f4b4bdd3ca40",
   "metadata": {},
   "source": [
    "The variable `x` in the class above is *owned by the class*, or something we call a *class variable*.  This is opposed to being owned by the instance, which we'll look at next.  Class variables can be accessed from the *class itself*, and you do not need to create an instance of the class in order to use them!"
   ]
  },
  {
   "cell_type": "code",
   "execution_count": null,
   "id": "6576ab4f-8cc8-4912-bc57-e010405a2f53",
   "metadata": {},
   "outputs": [],
   "source": [
    "MyClass.x"
   ]
  },
  {
   "cell_type": "markdown",
   "id": "63823805-5064-433e-81d3-2ddfa6c9226b",
   "metadata": {},
   "source": [
    "### Example: Class functions (or *methods*)\n",
    "\n",
    "All of the functions defined in the `class` block are also *owned* by the class itself, and they can be accessed and called directly from the class."
   ]
  },
  {
   "cell_type": "code",
   "execution_count": null,
   "id": "0524666a-e921-455e-9ae8-39bfbd94b273",
   "metadata": {
    "tags": []
   },
   "outputs": [],
   "source": [
    "MyClass.set_y"
   ]
  },
  {
   "cell_type": "markdown",
   "id": "fe35b97f-e9a0-4ed6-a1da-6dce426cb337",
   "metadata": {},
   "source": [
    "The first argument to any *class function*, or *method*, is always an *instance* of the class.  That is what the `self` argument is supposed to be.  So, to call this function, we need to pass it the instance (`mc`)."
   ]
  },
  {
   "cell_type": "code",
   "execution_count": null,
   "id": "b5accea6-076b-4674-9011-0d53c6590651",
   "metadata": {},
   "outputs": [],
   "source": [
    "MyClass.set_y(mc, 8)"
   ]
  },
  {
   "cell_type": "markdown",
   "id": "54fca96d-9539-460e-b970-31f34111ad3a",
   "metadata": {},
   "source": [
    "The thing is, though, this is a little messy.  And it's not very *Pythonic*.  As you probaby know, Python encourages \"duck typing,\" which means it encourages programmers to *not worry about the actual type (or class) of an object*.  With the above usage, you need to know *what type (i.e., what class)* the `mc` object is in order to call the `set_y` method!  That's a mess.\n",
    "\n",
    "Fortunately, Python let's you call methods directly from an instance, too.  And when you call the method from an instance, the `self` argument is *implied*.  That is, you don't actually provide it!"
   ]
  },
  {
   "cell_type": "code",
   "execution_count": null,
   "id": "e8344cb1-ca14-43f2-b8e7-ee893ae6223c",
   "metadata": {},
   "outputs": [],
   "source": [
    "mc.set_y(8)"
   ]
  },
  {
   "cell_type": "markdown",
   "id": "1be50356-ff5d-40ff-ae98-3f9ad6055665",
   "metadata": {
    "tags": []
   },
   "source": [
    "### Example: Instance variables\n",
    "\n",
    "Recall that the class defines this `set_y` method to look like this:\n",
    "\n",
    "```python\n",
    "def set_y(self, y):\n",
    "    self.y = y\n",
    "```\n",
    "\n",
    "The `self.y = y` statement means that calling `mc.set_y(8)` creates a `y` attribute on the `mc` instance with the value `8`.  Hence, the `y` attribute is *owned by the instance*, and it is not known by the class!"
   ]
  },
  {
   "cell_type": "markdown",
   "id": "9949b02f-48d4-465c-8e75-5ce5fc0ae898",
   "metadata": {},
   "source": [
    "Instance-owned attributes (or just \"instance attributes\") are owned by the *instance*!  That is, you need to create an actual instance of the class in order to use them!"
   ]
  },
  {
   "cell_type": "code",
   "execution_count": null,
   "id": "839edcd7-3097-4b39-a1d9-0a5b42a038e7",
   "metadata": {},
   "outputs": [],
   "source": [
    "mc.y"
   ]
  },
  {
   "cell_type": "markdown",
   "id": "367ab6a5-07fd-490f-ad37-ec74276d89bc",
   "metadata": {},
   "source": [
    "But what if we try to access `y` before we call `set_y`?"
   ]
  },
  {
   "cell_type": "code",
   "execution_count": null,
   "id": "c69b8a8c-4c95-4d7b-b36a-246a8ec09ab3",
   "metadata": {},
   "outputs": [],
   "source": [
    "mc1 = MyClass()"
   ]
  },
  {
   "cell_type": "code",
   "execution_count": null,
   "id": "d36bfb60-f7b4-47d4-87ee-f80da1c56100",
   "metadata": {},
   "outputs": [],
   "source": [
    "mc1.y"
   ]
  },
  {
   "cell_type": "markdown",
   "id": "5e2aa182-a42c-45e4-85ff-274d60bafc85",
   "metadata": {},
   "source": [
    "<div class=\"alert alert-info\">\n",
    "    <b>Note:</b>\n",
    "    <p>The <tt>y</tt> attribute hasn't been created, yet, because we haven't called the <tt>set_y</tt> function!</p>\n",
    "</div>"
   ]
  },
  {
   "cell_type": "markdown",
   "id": "7694ac5e-32ec-4595-a3dc-9e9105af85eb",
   "metadata": {},
   "source": [
    "So, let's create the `y` attribute by calling the `set_y` function..."
   ]
  },
  {
   "cell_type": "code",
   "execution_count": null,
   "id": "b16c1ea7-571e-40e4-9c0d-f3846ab49c41",
   "metadata": {},
   "outputs": [],
   "source": [
    "mc1.set_y(3)"
   ]
  },
  {
   "cell_type": "code",
   "execution_count": null,
   "id": "c77d5f51-d437-4440-b5e2-65561dc6cee8",
   "metadata": {},
   "outputs": [],
   "source": [
    "mc1.y"
   ]
  },
  {
   "cell_type": "markdown",
   "id": "514b1024-704f-4446-80f0-3945013c6a88",
   "metadata": {},
   "source": [
    "<div class=\"alert alert-info\">\n",
    "    <b>Note:</b>\n",
    "    <p>In fact, the <tt>y</tt> attribute is <em>owned by the instance, not the class!</em></p>\n",
    "</div>"
   ]
  },
  {
   "cell_type": "code",
   "execution_count": null,
   "id": "f27b3762-54ce-403d-bc67-7a9927b04ea1",
   "metadata": {},
   "outputs": [],
   "source": [
    "MyClass.y"
   ]
  },
  {
   "cell_type": "markdown",
   "id": "95a2dedb-5c62-48ba-bd4c-4578fae66ea9",
   "metadata": {},
   "source": [
    "### Example: Changing class variables"
   ]
  },
  {
   "cell_type": "markdown",
   "id": "c3fe44f2-19e5-4d3c-8703-39ad9676255a",
   "metadata": {},
   "source": [
    "Recall that `x` is owned by the class..."
   ]
  },
  {
   "cell_type": "code",
   "execution_count": null,
   "id": "92f80ce1-d7bc-47b7-98f3-e3f4a7f4d795",
   "metadata": {},
   "outputs": [],
   "source": [
    "MyClass.x"
   ]
  },
  {
   "cell_type": "markdown",
   "id": "c6ead291-fb82-414d-86bd-9bc2df0bd1ea",
   "metadata": {},
   "source": [
    "But you can access `x` from an instance, too..."
   ]
  },
  {
   "cell_type": "code",
   "execution_count": null,
   "id": "049575a1-c5ef-41d0-a7b9-15bc073228ff",
   "metadata": {},
   "outputs": [],
   "source": [
    "mc1.x"
   ]
  },
  {
   "cell_type": "markdown",
   "id": "7a5e57ac-308b-49c7-88df-ca5081554a8e",
   "metadata": {},
   "source": [
    "But more importantly..."
   ]
  },
  {
   "cell_type": "code",
   "execution_count": null,
   "id": "6888a21d-736b-4410-9549-84a8c388129e",
   "metadata": {},
   "outputs": [],
   "source": [
    "mc1.x is MyClass.x"
   ]
  },
  {
   "cell_type": "markdown",
   "id": "cf6b1e2f-3f07-430a-8c54-e209831266bf",
   "metadata": {},
   "source": [
    "<div class=\"alert alert-info\">\n",
    "    <b>Note:</b>\n",
    "    <p>This means that the data stored in the class's <tt>x</tt> variable is <em>the same data</em> (i.e., not a copy) as the data stored in the instance's <tt>x</tt> variable.  That is, they both point to the same data!</p>\n",
    "</div>"
   ]
  },
  {
   "cell_type": "markdown",
   "id": "e9603d1e-9ddd-4a73-9865-8400c87f317a",
   "metadata": {},
   "source": [
    "What happens if you change the class's `x`?"
   ]
  },
  {
   "cell_type": "code",
   "execution_count": null,
   "id": "7de86236-6861-4861-9a96-0b6d06f36f79",
   "metadata": {},
   "outputs": [],
   "source": [
    "MyClass.x = 5"
   ]
  },
  {
   "cell_type": "code",
   "execution_count": null,
   "id": "021fad08-9656-4ebe-bc90-e60e1f007889",
   "metadata": {},
   "outputs": [],
   "source": [
    "mc1.x"
   ]
  },
  {
   "cell_type": "code",
   "execution_count": null,
   "id": "8aa0bbd7-abb6-44f7-a18e-f41509d05acb",
   "metadata": {},
   "outputs": [],
   "source": [
    "mc1.x is MyClass.x"
   ]
  },
  {
   "cell_type": "markdown",
   "id": "c89d4734-bbbb-4a70-b737-0e497224ee13",
   "metadata": {},
   "source": [
    "And since `MyClass` is the blueprint for creating new instances..."
   ]
  },
  {
   "cell_type": "code",
   "execution_count": null,
   "id": "b6e323b2-8036-480b-99ac-5768212058bc",
   "metadata": {},
   "outputs": [],
   "source": [
    "mc2 = MyClass()\n",
    "mc2.x"
   ]
  },
  {
   "cell_type": "markdown",
   "id": "9e0858f2-573d-44ea-b95c-13df4cf16a42",
   "metadata": {},
   "source": [
    "What happens if you change an instance's `x`?"
   ]
  },
  {
   "cell_type": "code",
   "execution_count": null,
   "id": "f66445ec-1f45-4158-9933-703250ce73df",
   "metadata": {},
   "outputs": [],
   "source": [
    "mc2.x = 9"
   ]
  },
  {
   "cell_type": "code",
   "execution_count": null,
   "id": "ed9a04a7-8c51-4e8e-a4d6-1149564dcffd",
   "metadata": {},
   "outputs": [],
   "source": [
    "MyClass.x"
   ]
  },
  {
   "cell_type": "code",
   "execution_count": null,
   "id": "960cff2d-94d9-4d5c-97d5-0df8be81d50c",
   "metadata": {},
   "outputs": [],
   "source": [
    "mc1.x"
   ]
  },
  {
   "cell_type": "code",
   "execution_count": null,
   "id": "f2b55b79-4973-44ee-9913-23413cf26e6e",
   "metadata": {},
   "outputs": [],
   "source": [
    "mc2.x"
   ]
  },
  {
   "cell_type": "code",
   "execution_count": null,
   "id": "98c5f20f-beda-484e-b42b-561c749b0225",
   "metadata": {},
   "outputs": [],
   "source": [
    "MyClass.x is mc1.x"
   ]
  },
  {
   "cell_type": "code",
   "execution_count": null,
   "id": "3931d77a-3577-46f8-afb5-f4dc9833ccc2",
   "metadata": {},
   "outputs": [],
   "source": [
    "MyClass.x is mc2.x"
   ]
  },
  {
   "cell_type": "markdown",
   "id": "979d8340-4c59-496f-aad2-3250fd3cd308",
   "metadata": {},
   "source": [
    "***Watch what you are doing when it comes to class data!***\n",
    "\n",
    "### Takeaways:\n",
    "\n",
    "- Any variables or functions defined in a `class` block are *owned by the class*, but they can be accessed directly from any instance of that class.\n",
    "- Any variables or functions defined in a method of the class *on an instance of the class* are owned by the instance, only."
   ]
  },
  {
   "cell_type": "markdown",
   "id": "5bba12ee-0a15-4e52-8794-6442c0364690",
   "metadata": {},
   "source": [
    "|    |    |    |\n",
    "| :- | -- | -: |\n",
    "| [[Home]](../index.ipynb) | <img width=\"100%\" height=\"1\" src=\"../images/empty.png\"/> | [&laquo;&nbsp;Previous](03.ipynb)&nbsp;\\|&nbsp;[Next&nbsp;&raquo;](05.ipynb) |"
   ]
  }
 ],
 "metadata": {
  "kernelspec": {
   "display_name": "Python 3 (ipykernel)",
   "language": "python",
   "name": "python3"
  },
  "language_info": {
   "codemirror_mode": {
    "name": "ipython",
    "version": 3
   },
   "file_extension": ".py",
   "mimetype": "text/x-python",
   "name": "python",
   "nbconvert_exporter": "python",
   "pygments_lexer": "ipython3",
   "version": "3.9.7"
  }
 },
 "nbformat": 4,
 "nbformat_minor": 5
}
