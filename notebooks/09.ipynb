{
 "cells": [
  {
   "cell_type": "markdown",
   "id": "2dd23757-7cba-44b2-844a-5eff30aa513c",
   "metadata": {},
   "source": [
    "# *When* should you create an object?"
   ]
  },
  {
   "cell_type": "markdown",
   "id": "23edffdb-a40e-4ef3-abf7-3c5a0bf2953b",
   "metadata": {},
   "source": [
    "## Complicated Function Signatures\n",
    "\n",
    "Another good example of a use for classes is when you have *multiple* functions that have *similar, complicated* signatures.  A *signature* is the collection of arguments that get passed into the function.  If you have *one, single function* with many required arguments, you might want to consider splitting the function up into multiple functions that are smaller and less complicated to call.  If you have *many functions*, each with the same required arguments, you might want to consider grouping those functions into a class and making the common arguments in all of your functions class data.\n",
    "\n",
    "We can see this start to happen using the same example we looked at in the previous section on Complicated Data Structures, but imagining it from a different perspective.  Imagine we chose to represent the *instrument* data with many small data structures."
   ]
  },
  {
   "cell_type": "markdown",
   "id": "0519927f-d9b3-48e8-b0fe-66832cfbfb46",
   "metadata": {},
   "source": [
    "### Example Data\n",
    "\n",
    "Imagine a similar *instrument* data file to what we had before, but now with variables `A`, `B`, `C`, and `D`."
   ]
  },
  {
   "cell_type": "code",
   "execution_count": null,
   "id": "f2a7b785-39d1-424f-b4d8-350f2b15ea5a",
   "metadata": {},
   "outputs": [],
   "source": [
    "%%writefile instrument2.csv\n",
    "A,0.612,44.978\n",
    "B,0.891,-0.0178\n",
    "A,1.132,45.741\n",
    "C,1.251,21.385\n",
    "C,1.542,23.723\n",
    "B,1.852,-0.6319\n",
    "D,1.988,101.123\n",
    "D,2.187,100.852\n",
    "A,2.376,42.178\n",
    "B,3.017,-2.7863\n",
    "A,3.861,41.389\n",
    "C,4.345,27.013\n",
    "D,4.687,98.678\n",
    "A,5.142,42.687\n",
    "D,6.187,102.752"
   ]
  },
  {
   "cell_type": "markdown",
   "id": "fa0a329f-3ad6-4e1a-8d6a-39026e82670b",
   "metadata": {},
   "source": [
    "We can define a similar function to what we defined before, be this time we will be explicit about knowledge that the datafile only contains information about variables `A`, `B`, `C`, and `D`."
   ]
  },
  {
   "cell_type": "code",
   "execution_count": null,
   "id": "7141b9fa-1ee8-449f-8343-e3a15d967518",
   "metadata": {},
   "outputs": [],
   "source": [
    "def read_instrument_data(filename):\n",
    "    values = {}\n",
    "    times = {}\n",
    "    with open(filename) as f:\n",
    "        for record in f:\n",
    "            var,time,value = record.split(',')\n",
    "            if var not in values:\n",
    "                values[var] = []\n",
    "                times[var] = []\n",
    "            values[var].append(float(value))\n",
    "            times[var].append(float(time))\n",
    "    return times['A'], values['A'], times['B'], values['B'], times['C'], values['C'], times['D'], values['D']"
   ]
  },
  {
   "cell_type": "markdown",
   "id": "d45dcb5a-f6d0-41b6-bc04-100c9b1c7c24",
   "metadata": {},
   "source": [
    "And we now are assumed to explicitly extract out the times and values into separate lists for each variable."
   ]
  },
  {
   "cell_type": "code",
   "execution_count": null,
   "id": "06074107-272e-4d02-a007-15710bb8f344",
   "metadata": {},
   "outputs": [],
   "source": [
    "a_times, a_values, b_times, b_values, c_times, c_values, d_times, d_values = read_instrument_data('instrument2.csv')"
   ]
  },
  {
   "cell_type": "markdown",
   "id": "9cee2982-8707-40c8-91c6-f42928709162",
   "metadata": {},
   "source": [
    "Now, the `print(data)` test doesn't have any problem!  Everything is simple and explicit."
   ]
  },
  {
   "cell_type": "code",
   "execution_count": null,
   "id": "25038437-eb25-4505-bce4-dda4c8863b30",
   "metadata": {},
   "outputs": [],
   "source": [
    "print(a_times)"
   ]
  },
  {
   "cell_type": "code",
   "execution_count": null,
   "id": "532d71e5-e7d1-4446-8564-b9d22c4327b3",
   "metadata": {},
   "outputs": [],
   "source": [
    "print(a_values)"
   ]
  },
  {
   "cell_type": "code",
   "execution_count": null,
   "id": "9e714609-6128-4838-bfd1-6125d6f4c066",
   "metadata": {},
   "outputs": [],
   "source": [
    "print(b_times)"
   ]
  },
  {
   "cell_type": "code",
   "execution_count": null,
   "id": "f42a38b1-03a3-421a-b2d7-c3e8b54f75ad",
   "metadata": {},
   "outputs": [],
   "source": [
    "print(b_values)"
   ]
  },
  {
   "cell_type": "markdown",
   "id": "e06b63eb-1b13-465c-82b7-5caf9b193c0b",
   "metadata": {},
   "source": [
    "And so on.\n",
    "\n",
    "Everything is clearly labeled and the data is \"self-explanatory.\"  So, no problem, right?"
   ]
  },
  {
   "cell_type": "markdown",
   "id": "69fd1377-7e80-42ed-beb2-b9207a22038e",
   "metadata": {},
   "source": [
    "### Example Functions\n",
    "\n",
    "Imagine the myriad things you can compute from the above variables!  Many of the computations may depend on any number of these variables.  Some may need the time data, and some may not.  Some may require only one variable's data, and some may require them all!\n",
    "\n",
    "Since I haven't used variables that correspond to anything *real* in our world, I can't create actual computations that you can recognize, but I hope you can see where this is going.  As an example, imagine the following functions."
   ]
  },
  {
   "cell_type": "code",
   "execution_count": null,
   "id": "bced4bfd-a49c-41ad-b5c0-3b37015b23d4",
   "metadata": {},
   "outputs": [],
   "source": [
    "def integrate_trapezoid(x, y):\n",
    "    return sum(0.5*(x[i] - x[i-1])*(y[i] + y[i-1]) for i in range(1, len(x)))\n",
    "\n",
    "def compute_v1(a_t, a_v, b_t, b_v):\n",
    "    return integrate_trapezoid(a_t, a_v) - integrate_trapezoid(b_t, b_v)\n",
    "\n",
    "def compute_v2(a_v, b_v, c_v, d_v):\n",
    "    all_v = a_v + b_v + c_v + d_v\n",
    "    return sum(all_v) / len(all_v)\n",
    "\n",
    "def compute_v3(a_t, a_v, b_t, b_v, c_t, c_v, d_t, d_v):\n",
    "    a_b = integrate_trapezoid(a_t, a_v) - integrate_trapezoid(b_t, b_v)\n",
    "    c_d = integrate_trapezoid(c_t, c_v) + integrate_trapezoid(d_t, d_v)\n",
    "    return a_b / c_d\n",
    "\n",
    "def compute_v4(a_t, b_t, c_t, d_t):\n",
    "    return sorted(a_t + b_t + c_t + d_t)"
   ]
  },
  {
   "cell_type": "markdown",
   "id": "1fe17a39-6688-453f-9062-78ab99546277",
   "metadata": {},
   "source": [
    "And so on...\n",
    "\n",
    "You should be able to imagine how more functions can be added to the list, and that the number of functions can grow quickly and dramatically.\n",
    "\n",
    "Let's try out what we've got."
   ]
  },
  {
   "cell_type": "code",
   "execution_count": null,
   "id": "a8e4f9b8-081b-4c85-ac82-ae889beb8abc",
   "metadata": {},
   "outputs": [],
   "source": [
    "compute_v1(a_times, a_values, b_times, b_values)"
   ]
  },
  {
   "cell_type": "code",
   "execution_count": null,
   "id": "36c54919-ad02-4163-b56e-1be10c6da397",
   "metadata": {},
   "outputs": [],
   "source": [
    "compute_v2(a_values, b_values, c_values, d_values)"
   ]
  },
  {
   "cell_type": "code",
   "execution_count": null,
   "id": "fb36da2c-0eb1-47ab-a705-eb2f579794d0",
   "metadata": {},
   "outputs": [],
   "source": [
    "compute_v3(a_times, a_values, b_times, b_values, c_times, c_values, d_times, d_values)"
   ]
  },
  {
   "cell_type": "code",
   "execution_count": null,
   "id": "63fa382b-a22e-4b00-aa61-f5632dd2d216",
   "metadata": {},
   "outputs": [],
   "source": [
    "compute_v4(a_times, b_times, c_times, d_times)"
   ]
  },
  {
   "cell_type": "markdown",
   "id": "f2a5cc9d-3ba8-49dc-9bae-493786d723f9",
   "metadata": {},
   "source": [
    "Just writing out those functions takes time and effort to avoid errors!"
   ]
  },
  {
   "cell_type": "markdown",
   "id": "53d7f172-ac9b-411b-9ca8-ec7daf29345f",
   "metadata": {},
   "source": [
    "## Problems and Limitations\n",
    "\n",
    "What kinds of potential problems do you see with this approach?  Are there any?\n",
    "\n",
    "1. While the data is explicitly labeled and easy to understand (i.e., the `print(data)` test), there is a lot to manage.\n",
    "\n",
    "2. Because the number of variables is large, the signatures of the functions can be quite lengthy.  Long signatures can be lead to errors because of simple typing mistakes, and those errors can be hard to spot.  Especially since long signatures tend to lead to abbreviated variable names to prevent having to type so many characters!\n",
    "\n",
    "3. Many of the functions have similar signatures, but not the same.  Can you remember which function needs which variables as arguments?  Or would you need to look it up every time?\n",
    "\n",
    "What other problems can you think of?"
   ]
  },
  {
   "cell_type": "markdown",
   "id": "27e08a72-2acf-45b1-b841-83904e22662c",
   "metadata": {},
   "source": [
    "## Key Takeaway\n",
    "\n",
    "The *instrument* that is providing the data is measuring different variables related to the *same thing*.  Maybe it's measuring properties of the atmosphere, ocean, land, or surface ice.  Maybe it's just measuring local properties of some \"environment,\" whatever you want to call it.  And regardless of what that \"environment\" is, the computations you perform must also describe the same environment.  Hence, *conceptually*, the data and the computations (i.e., functions) are (*again*) intrinsically related to one another!\n",
    "\n",
    "And you can relieve a lot of headaches in using all of these functions, if you encapsulated the data into a single object and simplified the signatures of the functions.\n",
    "\n",
    "***How might you do that?***"
   ]
  },
  {
   "cell_type": "markdown",
   "id": "ce6be040-e4c3-4fe9-8ab4-06f86d1be0e1",
   "metadata": {},
   "source": [
    "### Exercise: Try grouping the data and functions above into an object"
   ]
  },
  {
   "cell_type": "code",
   "execution_count": null,
   "id": "d9761702-9c99-444a-9e93-2ece3765b0c4",
   "metadata": {},
   "outputs": [],
   "source": [
    "# Try writing a class that groups the data and functions above"
   ]
  },
  {
   "cell_type": "markdown",
   "id": "9c0078c4-5f5c-4cc5-ad4b-31fb5865b817",
   "metadata": {},
   "source": [
    "|    |    |    |\n",
    "| :- | -- | -: |\n",
    "| [[Home]](../index.ipynb) | <img width=\"100%\" height=\"1\" src=\"../images/empty.png\"/> | [&laquo;&nbsp;Previous](08.ipynb)&nbsp;\\|&nbsp;[Next&nbsp;&raquo;](10.ipynb) |"
   ]
  }
 ],
 "metadata": {
  "kernelspec": {
   "display_name": "Python 3 (ipykernel)",
   "language": "python",
   "name": "python3"
  },
  "language_info": {
   "codemirror_mode": {
    "name": "ipython",
    "version": 3
   },
   "file_extension": ".py",
   "mimetype": "text/x-python",
   "name": "python",
   "nbconvert_exporter": "python",
   "pygments_lexer": "ipython3",
   "version": "3.9.7"
  }
 },
 "nbformat": 4,
 "nbformat_minor": 5
}
