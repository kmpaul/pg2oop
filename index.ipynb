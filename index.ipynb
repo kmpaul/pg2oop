{
 "cells": [
  {
   "cell_type": "markdown",
   "id": "18c0fbfb-c96b-4d82-8050-a680a0c70982",
   "metadata": {},
   "source": [
    "# A Practical Guide to Object Oriented Programming (in Python)\n",
    "\n",
    "This tutorial is intended to be a practical introduction to *object oriented programming* for novice Python programmers.  It was created for the [NCAR](https://ncar.ucar.edu) Python Tutorial Seminar Series, and the video for this tutorial will be hosted on the [ProjectPythia YouTube Channel](https://www.youtube.com/channel/UCoZPBqJal5uKpO8ZiwzavCw)."
   ]
  },
  {
   "cell_type": "markdown",
   "id": "8892c6f3-4da1-48a9-a4a7-c50db7e268af",
   "metadata": {},
   "source": [
    "<div class=\"alert alert-info\">\n",
    "<p><b>Note:</b></p>\n",
    "For those of you who have been following along with our Python Tutorial Seminars, you\n",
    "may have already taken the previous <a href=\"https://www.youtube.com/watch?v=GEFnL8C62u8&t=11s\">Object Oriented Programming</a> tutorial.  That's fine!  This tutorial a different take on much of the\n",
    "same content.  If you've attended or watched the previous OOP tutorial, and you are still\n",
    "a little confused about OOP and <em>how to use it on a daily basis</em>, then this tutorial may\n",
    "help.  If you didn't attend or watch the previous OOP tutorial, that's fine, too.  This\n",
    "tutorial is meant to be a stand-alone OOP tutorial presenting the material from a <em>practical</em>\n",
    "point of view.  If this tutorial doesn't completely satisfy you, then feel free to go back\n",
    "and watch the first OOP tutorial again (or for the first time).\n",
    "</div>"
   ]
  },
  {
   "cell_type": "markdown",
   "id": "89b3ff6b",
   "metadata": {},
   "source": [
    "<div style=\"float: left;\"><a href=\"index.ipynb\">[Home]</a></div>\n",
    "<div style=\"float: right;\"><a href=\"notebooks/01.ipynb\">Next&nbsp;&raquo;</a></div>"
   ]
  }
 ],
 "metadata": {
  "kernelspec": {
   "display_name": "Python 3 (ipykernel)",
   "language": "python",
   "name": "python3"
  },
  "language_info": {
   "codemirror_mode": {
    "name": "ipython",
    "version": 3
   },
   "file_extension": ".py",
   "mimetype": "text/x-python",
   "name": "python",
   "nbconvert_exporter": "python",
   "pygments_lexer": "ipython3",
   "version": "3.7.10"
  }
 },
 "nbformat": 4,
 "nbformat_minor": 5
}
